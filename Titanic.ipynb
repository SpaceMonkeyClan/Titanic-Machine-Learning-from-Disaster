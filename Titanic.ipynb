{
 "cells": [
  {
   "cell_type": "code",
   "execution_count": null,
   "metadata": {
    "id": "BH3Sr-DsiM5v"
   },
   "outputs": [],
   "source": [
    "# For Colab\n",
    "!pip install -q kaggle"
   ]
  },
  {
   "cell_type": "code",
   "execution_count": null,
   "metadata": {
    "colab": {
     "base_uri": "https://localhost:8080/"
    },
    "id": "rOHsypfs21Kr",
    "outputId": "b9a742f2-f823-421d-d7d2-8fc2d1d7de7b"
   },
   "outputs": [],
   "source": [
    "from google.colab import drive\n",
    "drive.mount('/content/drive')"
   ]
  },
  {
   "cell_type": "code",
   "execution_count": null,
   "metadata": {
    "id": "GGssLCVoiMo-"
   },
   "outputs": [],
   "source": [
    "# For Colab\n",
    "!mkdir ~/.kaggle "
   ]
  },
  {
   "cell_type": "code",
   "execution_count": null,
   "metadata": {
    "colab": {
     "base_uri": "https://localhost:8080/"
    },
    "id": "dgSOJh4PneK-",
    "outputId": "c9b86cd5-6134-44ee-9174-bcc0dfdefbab"
   },
   "outputs": [],
   "source": [
    "# For Colab\n",
    "from google.colab import drive\n",
    "drive.mount('/content/drive')"
   ]
  },
  {
   "cell_type": "code",
   "execution_count": null,
   "metadata": {
    "colab": {
     "base_uri": "https://localhost:8080/"
    },
    "id": "18tt6dGcicW7",
    "outputId": "2362ed46-04f0-475e-df91-c98616e18503"
   },
   "outputs": [],
   "source": [
    "# For Colab\n",
    "!cp /content/drive/MyDrive/kaggle.json ~/.kaggle/"
   ]
  },
  {
   "cell_type": "code",
   "execution_count": null,
   "metadata": {
    "colab": {
     "base_uri": "https://localhost:8080/"
    },
    "id": "5t16IrZbihUe",
    "outputId": "9b7009fd-0ef6-4059-991c-23545dee773a"
   },
   "outputs": [],
   "source": [
    "# For Colab\n",
    "!kaggle competitions download -c titanic"
   ]
  },
  {
   "cell_type": "code",
   "execution_count": null,
   "metadata": {
    "execution": {
     "iopub.execute_input": "2021-08-31T04:44:54.37007Z",
     "iopub.status.busy": "2021-08-31T04:44:54.366049Z",
     "iopub.status.idle": "2021-08-31T04:44:55.700389Z",
     "shell.execute_reply": "2021-08-31T04:44:55.699527Z",
     "shell.execute_reply.started": "2021-08-31T04:44:54.369302Z"
    },
    "id": "1yh0w3FwjyAB"
   },
   "outputs": [],
   "source": [
    "import pandas as pd\n",
    "import numpy as np\n",
    "import matplotlib.pyplot as plt\n",
    "import seaborn as sns"
   ]
  },
  {
   "cell_type": "code",
   "execution_count": null,
   "metadata": {
    "execution": {
     "iopub.execute_input": "2021-08-31T04:44:55.702209Z",
     "iopub.status.busy": "2021-08-31T04:44:55.701926Z",
     "iopub.status.idle": "2021-08-31T04:44:55.706968Z",
     "shell.execute_reply": "2021-08-31T04:44:55.706091Z",
     "shell.execute_reply.started": "2021-08-31T04:44:55.70218Z"
    },
    "id": "vaUVc2k6iFPH"
   },
   "outputs": [],
   "source": [
    "import warnings\n",
    "warnings.filterwarnings('ignore')"
   ]
  },
  {
   "cell_type": "code",
   "execution_count": null,
   "metadata": {
    "execution": {
     "iopub.execute_input": "2021-08-31T04:44:55.70902Z",
     "iopub.status.busy": "2021-08-31T04:44:55.708737Z",
     "iopub.status.idle": "2021-08-31T04:44:55.746064Z",
     "shell.execute_reply": "2021-08-31T04:44:55.745085Z",
     "shell.execute_reply.started": "2021-08-31T04:44:55.708989Z"
    },
    "id": "muN7BKPVlpje"
   },
   "outputs": [],
   "source": [
    "# For Kaggle\n",
    "#train_data_raw = pd.read_csv('../input/titanic/train.csv')\n",
    "#test_data_raw = pd.read_csv('../input/titanic/test.csv')"
   ]
  },
  {
   "cell_type": "code",
   "execution_count": null,
   "metadata": {
    "colab": {
     "base_uri": "https://localhost:8080/",
     "height": 405
    },
    "id": "H20_4BJRjM-n",
    "outputId": "3fa5bbf8-b884-456f-842b-ca56521e73e4"
   },
   "outputs": [],
   "source": [
    "train_data_raw = pd.read_csv('train.csv')\n",
    "test_data_raw = pd.read_csv('test.csv')"
   ]
  },
  {
   "cell_type": "code",
   "execution_count": null,
   "metadata": {
    "colab": {
     "base_uri": "https://localhost:8080/",
     "height": 202
    },
    "execution": {
     "iopub.execute_input": "2021-08-31T04:44:55.747931Z",
     "iopub.status.busy": "2021-08-31T04:44:55.747639Z",
     "iopub.status.idle": "2021-08-31T04:44:55.785682Z",
     "shell.execute_reply": "2021-08-31T04:44:55.784777Z",
     "shell.execute_reply.started": "2021-08-31T04:44:55.747902Z"
    },
    "id": "7QRGrdBSmLIy",
    "outputId": "2b6438e1-cb9a-49b0-ab98-edf1b4844566"
   },
   "outputs": [],
   "source": [
    "train_data_raw.sample(5)"
   ]
  },
  {
   "cell_type": "code",
   "execution_count": null,
   "metadata": {
    "colab": {
     "base_uri": "https://localhost:8080/"
    },
    "execution": {
     "iopub.execute_input": "2021-08-31T04:44:55.787146Z",
     "iopub.status.busy": "2021-08-31T04:44:55.78688Z",
     "iopub.status.idle": "2021-08-31T04:44:55.792729Z",
     "shell.execute_reply": "2021-08-31T04:44:55.791941Z",
     "shell.execute_reply.started": "2021-08-31T04:44:55.787119Z"
    },
    "id": "du33KBBtql41",
    "outputId": "2de48b58-b968-4ad4-e929-962827c1a7f9"
   },
   "outputs": [],
   "source": [
    "columns_all = train_data_raw.columns\n",
    "columns_all"
   ]
  },
  {
   "cell_type": "markdown",
   "metadata": {
    "id": "N-MKaEsheZA3"
   },
   "source": [
    "# Exploratory Data Analysis"
   ]
  },
  {
   "cell_type": "code",
   "execution_count": null,
   "metadata": {
    "colab": {
     "base_uri": "https://localhost:8080/"
    },
    "execution": {
     "iopub.execute_input": "2021-08-31T04:44:55.794414Z",
     "iopub.status.busy": "2021-08-31T04:44:55.794044Z",
     "iopub.status.idle": "2021-08-31T04:44:55.821554Z",
     "shell.execute_reply": "2021-08-31T04:44:55.820564Z",
     "shell.execute_reply.started": "2021-08-31T04:44:55.794295Z"
    },
    "id": "M8L6ILSdoVwV",
    "outputId": "fa3d94ad-56ed-472a-cb93-f7a60633d0a1"
   },
   "outputs": [],
   "source": [
    "train_data_raw.info()"
   ]
  },
  {
   "cell_type": "markdown",
   "metadata": {
    "id": "QYyFNrUCoBGI"
   },
   "source": [
    "- There are 891 records and there are missing values in some of the columns."
   ]
  },
  {
   "cell_type": "code",
   "execution_count": null,
   "metadata": {
    "colab": {
     "base_uri": "https://localhost:8080/",
     "height": 656
    },
    "execution": {
     "iopub.execute_input": "2021-08-31T04:44:55.823093Z",
     "iopub.status.busy": "2021-08-31T04:44:55.822814Z",
     "iopub.status.idle": "2021-08-31T04:44:57.11586Z",
     "shell.execute_reply": "2021-08-31T04:44:57.114862Z",
     "shell.execute_reply.started": "2021-08-31T04:44:55.823063Z"
    },
    "id": "NtmuljOIo0a_",
    "outputId": "100347c6-2e07-4ea3-aa6b-f1f11c2cbabd"
   },
   "outputs": [],
   "source": [
    "train_data_raw.hist(figsize=(9,9))\n",
    "plt.tight_layout()"
   ]
  },
  {
   "cell_type": "code",
   "execution_count": null,
   "metadata": {
    "colab": {
     "base_uri": "https://localhost:8080/"
    },
    "execution": {
     "iopub.execute_input": "2021-08-31T04:44:57.118447Z",
     "iopub.status.busy": "2021-08-31T04:44:57.118163Z",
     "iopub.status.idle": "2021-08-31T04:44:57.127663Z",
     "shell.execute_reply": "2021-08-31T04:44:57.12664Z",
     "shell.execute_reply.started": "2021-08-31T04:44:57.118405Z"
    },
    "id": "UL8YWA01iHjM",
    "outputId": "ec8f6598-5924-4e19-b8dd-c533e4104c55"
   },
   "outputs": [],
   "source": [
    "train_data_raw['Survived'].value_counts().apply(lambda x:f'{x} ({x*100/len(train_data_raw):0.2f}%)')"
   ]
  },
  {
   "cell_type": "markdown",
   "metadata": {
    "id": "QSpv50rVqite"
   },
   "source": [
    "Initial Inferences :\n",
    "\n",
    "- The dataset is mildly imbalanced.\n",
    "- The columns 'PassengerId' & 'Name' are unique identifiers.\n",
    "- 'Survived' is the target column that we have to predict.\n",
    "- The columns 'Pclass', 'Sex' and 'Embarked' are categorical columns and the rest are numerical.\n",
    "- The column 'SibSp' should ideally be integer value.\n"
   ]
  },
  {
   "cell_type": "markdown",
   "metadata": {
    "id": "TRd0LvS7s9ce"
   },
   "source": [
    "We shall split our training data to train-test set before proceeding further to avoid any data leakage into test set."
   ]
  },
  {
   "cell_type": "code",
   "execution_count": null,
   "metadata": {
    "execution": {
     "iopub.execute_input": "2021-08-31T04:44:57.130031Z",
     "iopub.status.busy": "2021-08-31T04:44:57.129735Z",
     "iopub.status.idle": "2021-08-31T04:44:57.318486Z",
     "shell.execute_reply": "2021-08-31T04:44:57.317462Z",
     "shell.execute_reply.started": "2021-08-31T04:44:57.13Z"
    },
    "id": "G7bwjeBLo6eI"
   },
   "outputs": [],
   "source": [
    "from sklearn.model_selection import train_test_split"
   ]
  },
  {
   "cell_type": "markdown",
   "metadata": {
    "id": "7w8sF61I1sRF"
   },
   "source": [
    "We shall create a copy of train_set so as to not loose the original training set during feature engineering."
   ]
  },
  {
   "cell_type": "code",
   "execution_count": null,
   "metadata": {
    "execution": {
     "iopub.execute_input": "2021-08-31T04:44:57.32009Z",
     "iopub.status.busy": "2021-08-31T04:44:57.31979Z",
     "iopub.status.idle": "2021-08-31T04:44:57.329484Z",
     "shell.execute_reply": "2021-08-31T04:44:57.328376Z",
     "shell.execute_reply.started": "2021-08-31T04:44:57.320059Z"
    },
    "id": "GDQLS5aWtvem"
   },
   "outputs": [],
   "source": [
    "train_set,test_set = train_test_split(train_data_raw,test_size=0.2,stratify=train_data_raw['Survived'],random_state=21)"
   ]
  },
  {
   "cell_type": "code",
   "execution_count": null,
   "metadata": {
    "execution": {
     "iopub.execute_input": "2021-08-31T04:44:57.331072Z",
     "iopub.status.busy": "2021-08-31T04:44:57.330791Z",
     "iopub.status.idle": "2021-08-31T04:44:57.340163Z",
     "shell.execute_reply": "2021-08-31T04:44:57.339144Z",
     "shell.execute_reply.started": "2021-08-31T04:44:57.331042Z"
    },
    "id": "fUBvKNDF1hhX"
   },
   "outputs": [],
   "source": [
    "train_original = train_set.copy()\n",
    "train_set.reset_index(drop=True,inplace=True)"
   ]
  },
  {
   "cell_type": "code",
   "execution_count": null,
   "metadata": {
    "colab": {
     "base_uri": "https://localhost:8080/",
     "height": 202
    },
    "execution": {
     "iopub.execute_input": "2021-08-31T04:44:57.341944Z",
     "iopub.status.busy": "2021-08-31T04:44:57.341624Z",
     "iopub.status.idle": "2021-08-31T04:44:57.36493Z",
     "shell.execute_reply": "2021-08-31T04:44:57.363866Z",
     "shell.execute_reply.started": "2021-08-31T04:44:57.341912Z"
    },
    "id": "UkBlhQgZuq6P",
    "outputId": "46e32a40-c4e3-43c9-90da-15d35db74791"
   },
   "outputs": [],
   "source": [
    "train_set.sample(5)"
   ]
  },
  {
   "cell_type": "code",
   "execution_count": null,
   "metadata": {
    "colab": {
     "base_uri": "https://localhost:8080/",
     "height": 294
    },
    "execution": {
     "iopub.execute_input": "2021-08-31T04:44:57.366317Z",
     "iopub.status.busy": "2021-08-31T04:44:57.366Z",
     "iopub.status.idle": "2021-08-31T04:44:57.405331Z",
     "shell.execute_reply": "2021-08-31T04:44:57.404412Z",
     "shell.execute_reply.started": "2021-08-31T04:44:57.366284Z"
    },
    "id": "TuKkWVu47Cdj",
    "outputId": "963c2533-70e3-4191-d5ab-4d37d3c5a9e2"
   },
   "outputs": [],
   "source": [
    "train_set.describe()"
   ]
  },
  {
   "cell_type": "code",
   "execution_count": null,
   "metadata": {
    "colab": {
     "base_uri": "https://localhost:8080/"
    },
    "execution": {
     "iopub.execute_input": "2021-08-31T04:44:57.406953Z",
     "iopub.status.busy": "2021-08-31T04:44:57.406671Z",
     "iopub.status.idle": "2021-08-31T04:44:57.425335Z",
     "shell.execute_reply": "2021-08-31T04:44:57.424402Z",
     "shell.execute_reply.started": "2021-08-31T04:44:57.406923Z"
    },
    "id": "_UdxGcHKiWo0",
    "outputId": "cf1b5be0-1f94-4da7-b945-9daff553404e"
   },
   "outputs": [],
   "source": [
    "# No. of unique elements in each column\n",
    "train_set.apply(lambda x: x.nunique())"
   ]
  },
  {
   "cell_type": "code",
   "execution_count": null,
   "metadata": {
    "colab": {
     "base_uri": "https://localhost:8080/"
    },
    "execution": {
     "iopub.execute_input": "2021-08-31T04:44:57.427895Z",
     "iopub.status.busy": "2021-08-31T04:44:57.427473Z",
     "iopub.status.idle": "2021-08-31T04:44:57.438255Z",
     "shell.execute_reply": "2021-08-31T04:44:57.437201Z",
     "shell.execute_reply.started": "2021-08-31T04:44:57.427847Z"
    },
    "id": "4hZq7DaRcyRL",
    "outputId": "d583aa9c-be6f-423e-debc-12311064cef8"
   },
   "outputs": [],
   "source": [
    "num_cols = train_set.select_dtypes('number').columns.drop(['PassengerId','Survived','Pclass']).to_numpy()\n",
    "cat_cols = list(train_set.select_dtypes('object').columns.drop(['Name']))\n",
    "cat_cols.extend(['Pclass'])\n",
    "print(\"Numerical Columns : \",num_cols)\n",
    "print(\"Categorical Columns : \",cat_cols)"
   ]
  },
  {
   "cell_type": "code",
   "execution_count": null,
   "metadata": {
    "colab": {
     "base_uri": "https://localhost:8080/",
     "height": 584
    },
    "execution": {
     "iopub.execute_input": "2021-08-31T04:44:57.440304Z",
     "iopub.status.busy": "2021-08-31T04:44:57.439909Z",
     "iopub.status.idle": "2021-08-31T04:44:58.290579Z",
     "shell.execute_reply": "2021-08-31T04:44:58.289447Z",
     "shell.execute_reply.started": "2021-08-31T04:44:57.44026Z"
    },
    "id": "TGMecRHSioy7",
    "outputId": "03174d9a-4ab1-48f5-ff67-038810434855"
   },
   "outputs": [],
   "source": [
    "n_def_num_cols = len(num_cols)\n",
    "fig,ax = plt.subplots(round(n_def_num_cols/2),2,figsize=(10,n_def_num_cols*2))\n",
    "for i,col in enumerate(num_cols):\n",
    "  sns.violinplot(x='Survived',y=col,data=train_set,ax=ax.ravel()[i],orient='v',cut=0)\n",
    "fig.tight_layout()"
   ]
  },
  {
   "cell_type": "code",
   "execution_count": null,
   "metadata": {
    "colab": {
     "base_uri": "https://localhost:8080/",
     "height": 584
    },
    "execution": {
     "iopub.execute_input": "2021-08-31T04:44:58.293091Z",
     "iopub.status.busy": "2021-08-31T04:44:58.292765Z",
     "iopub.status.idle": "2021-08-31T04:44:59.528268Z",
     "shell.execute_reply": "2021-08-31T04:44:59.527338Z",
     "shell.execute_reply.started": "2021-08-31T04:44:58.293058Z"
    },
    "id": "s5_FlY4BpPvM",
    "outputId": "5a484cea-990f-486c-9565-aa9f47681491"
   },
   "outputs": [],
   "source": [
    "fig,ax = plt.subplots(round(n_def_num_cols/2),2,figsize=(16,n_def_num_cols*2))\n",
    "for i,col in enumerate(num_cols):\n",
    "  sns.histplot(x=col,data=train_set,hue='Survived',multiple='dodge',ax=ax.ravel()[i],bins=20,lw=1)\n",
    "fig.tight_layout()"
   ]
  },
  {
   "cell_type": "markdown",
   "metadata": {
    "id": "5-mkybQqk1lI"
   },
   "source": [
    "- We can see that, the survival rate is higher for the kids and elderly. The survial rate for inividuals between 20-30 is very low.\n",
    "- We could also observe that the chances of survival is increasing with the price paid for the ticket."
   ]
  },
  {
   "cell_type": "code",
   "execution_count": null,
   "metadata": {
    "colab": {
     "base_uri": "https://localhost:8080/",
     "height": 1000
    },
    "execution": {
     "iopub.execute_input": "2021-08-31T04:44:59.530322Z",
     "iopub.status.busy": "2021-08-31T04:44:59.529905Z",
     "iopub.status.idle": "2021-08-31T04:45:06.229746Z",
     "shell.execute_reply": "2021-08-31T04:45:06.228454Z",
     "shell.execute_reply.started": "2021-08-31T04:44:59.530272Z"
    },
    "id": "1ENgGVw3loz3",
    "outputId": "f0c2bf34-fcdc-400b-ce1f-b9ea1296a6ae"
   },
   "outputs": [],
   "source": [
    "sns.pairplot(hue='Survived',data=train_set,corner=True)\n",
    "plt.tight_layout()"
   ]
  },
  {
   "cell_type": "markdown",
   "metadata": {
    "id": "iyyyrpvcmYx5"
   },
   "source": [
    "- The classification of survival isnt linearly seperable with any of the feature.\n",
    "- There arent any distinct correlation within various features."
   ]
  },
  {
   "cell_type": "code",
   "execution_count": null,
   "metadata": {
    "execution": {
     "iopub.execute_input": "2021-08-31T04:45:06.232029Z",
     "iopub.status.busy": "2021-08-31T04:45:06.231619Z",
     "iopub.status.idle": "2021-08-31T04:45:06.238184Z",
     "shell.execute_reply": "2021-08-31T04:45:06.237066Z",
     "shell.execute_reply.started": "2021-08-31T04:45:06.231985Z"
    },
    "id": "Weh-IsjJjHUG"
   },
   "outputs": [],
   "source": [
    "train_corr = train_set.corr()"
   ]
  },
  {
   "cell_type": "code",
   "execution_count": null,
   "metadata": {
    "colab": {
     "base_uri": "https://localhost:8080/",
     "height": 513
    },
    "execution": {
     "iopub.execute_input": "2021-08-31T04:45:06.240371Z",
     "iopub.status.busy": "2021-08-31T04:45:06.239936Z",
     "iopub.status.idle": "2021-08-31T04:45:06.831211Z",
     "shell.execute_reply": "2021-08-31T04:45:06.830242Z",
     "shell.execute_reply.started": "2021-08-31T04:45:06.240322Z"
    },
    "id": "3rRKt4qLzSex",
    "outputId": "e39498cb-610e-41a2-8620-052e152ef80e"
   },
   "outputs": [],
   "source": [
    "plt.subplots(figsize=(8,7))\n",
    "sns.heatmap(train_corr,vmax=1,vmin=-1,annot=True,cmap=sns.color_palette(\"icefire\", as_cmap=True))\n",
    "plt.tight_layout()"
   ]
  },
  {
   "cell_type": "code",
   "execution_count": null,
   "metadata": {
    "colab": {
     "base_uri": "https://localhost:8080/"
    },
    "execution": {
     "iopub.execute_input": "2021-08-31T04:45:06.833146Z",
     "iopub.status.busy": "2021-08-31T04:45:06.832738Z",
     "iopub.status.idle": "2021-08-31T04:45:06.843205Z",
     "shell.execute_reply": "2021-08-31T04:45:06.842071Z",
     "shell.execute_reply.started": "2021-08-31T04:45:06.8331Z"
    },
    "id": "cICgt8Ebjm51",
    "outputId": "0aec730d-1227-4097-c84b-e1ff2260ae3c"
   },
   "outputs": [],
   "source": [
    "print(\"Correlation of Features with 'Survived' \\n\")\n",
    "train_corr.loc[:,'Survived'].sort_values(ascending=False).drop('Survived')"
   ]
  },
  {
   "cell_type": "code",
   "execution_count": null,
   "metadata": {
    "colab": {
     "base_uri": "https://localhost:8080/"
    },
    "execution": {
     "iopub.execute_input": "2021-08-31T04:45:06.844623Z",
     "iopub.status.busy": "2021-08-31T04:45:06.844355Z",
     "iopub.status.idle": "2021-08-31T04:45:06.86345Z",
     "shell.execute_reply": "2021-08-31T04:45:06.862253Z",
     "shell.execute_reply.started": "2021-08-31T04:45:06.844596Z"
    },
    "id": "lUR6RKLUkrJN",
    "outputId": "ce304bbe-ab72-4810-d4f0-dbff91c7564e"
   },
   "outputs": [],
   "source": [
    "print(\"Correlation within Features  \\n\")\n",
    "for i,y in enumerate(train_corr.index):\n",
    "    for j,x in enumerate(train_corr.columns.drop('Survived')):\n",
    "        if(j<i):\n",
    "            continue\n",
    "        if ((train_corr.loc[x,y] >0.4) or (train_corr.loc[x,y] <-0.4)) and x!=y:\n",
    "            print(f'{x} - {y}  : {train_corr.loc[x,y]}')"
   ]
  },
  {
   "cell_type": "markdown",
   "metadata": {
    "id": "KxWi13Ofe115"
   },
   "source": [
    "- The Ticket class has the highest correlation with the target column 'Survived'\n",
    "- The ticket fare and the ticket class are correlated which makes much sense.\n",
    "- Also the number of siblings/spouses aboard is correlated with the number of parents/children aboard."
   ]
  },
  {
   "cell_type": "code",
   "execution_count": null,
   "metadata": {
    "colab": {
     "base_uri": "https://localhost:8080/",
     "height": 1000
    },
    "execution": {
     "iopub.execute_input": "2021-08-31T04:45:06.868663Z",
     "iopub.status.busy": "2021-08-31T04:45:06.868342Z",
     "iopub.status.idle": "2021-08-31T04:45:08.906572Z",
     "shell.execute_reply": "2021-08-31T04:45:08.905539Z",
     "shell.execute_reply.started": "2021-08-31T04:45:06.868633Z"
    },
    "id": "d3L50aJk5C4A",
    "outputId": "c6dd0bfe-0655-4a25-d686-37e51e16f4bc"
   },
   "outputs": [],
   "source": [
    "for i,col in enumerate(['Pclass','Sex','Embarked','Survived']):\n",
    "  j=0\n",
    "  fig,ax = plt.subplots(1,3,figsize=(16,4),)\n",
    "  for col1 in ['Pclass','Sex','Embarked','Survived']:\n",
    "    if col1!=col:    \n",
    "      sns.countplot(x=col,data=train_set,hue=col1,ax=ax[j])\n",
    "      j=j+1\n",
    "  \n",
    "  fig.suptitle(col,size=16)\n",
    "  fig.tight_layout()"
   ]
  },
  {
   "cell_type": "markdown",
   "metadata": {
    "id": "06ErBw17CMzQ"
   },
   "source": [
    "As we can see, some of the insights that can be drawn are\n",
    "- The survival chances for females were much higher than males.\n",
    "- The chances of survival  were higher for Individuals with TicketClass('Pclass')-1. Passengers with Class-1 Ticket has survived more than any other class.\n",
    "- Passengers who embarked from port Cherbourg has a higher survival ratio.\n",
    "- Most passengers with 1st class tickets survived and the survival rate was much higher than any other ticket class. It could also be noted that there were no 1st class passengers from Queenstown.\n",
    "- Passengers embarked from Cherbourg has higher survival ratio.\n",
    "\n"
   ]
  },
  {
   "cell_type": "code",
   "execution_count": null,
   "metadata": {
    "execution": {
     "iopub.execute_input": "2021-08-31T04:45:08.909225Z",
     "iopub.status.busy": "2021-08-31T04:45:08.908938Z",
     "iopub.status.idle": "2021-08-31T04:45:08.915307Z",
     "shell.execute_reply": "2021-08-31T04:45:08.914213Z",
     "shell.execute_reply.started": "2021-08-31T04:45:08.909197Z"
    },
    "id": "RGIxFNl3S1ql"
   },
   "outputs": [],
   "source": [
    "from scipy.stats import chi2_contingency"
   ]
  },
  {
   "cell_type": "code",
   "execution_count": null,
   "metadata": {
    "colab": {
     "base_uri": "https://localhost:8080/"
    },
    "execution": {
     "iopub.execute_input": "2021-08-31T04:45:08.917279Z",
     "iopub.status.busy": "2021-08-31T04:45:08.916992Z",
     "iopub.status.idle": "2021-08-31T04:45:09.006349Z",
     "shell.execute_reply": "2021-08-31T04:45:09.005393Z",
     "shell.execute_reply.started": "2021-08-31T04:45:08.917251Z"
    },
    "id": "yVyCd_U4SOrP",
    "outputId": "f2cf7154-68ca-4902-da66-2bb4ea39a265"
   },
   "outputs": [],
   "source": [
    "alpha = 0.05\n",
    "for col in cat_cols:\n",
    "  cross_table = pd.crosstab(train_set[col],train_set['Survived'])\n",
    "  chi2_stat,p_value, dof, exp = chi2_contingency(cross_table)\n",
    "  if p_value <= alpha:\n",
    "    print(f\"{col}-Survived \\np-value : \",p_value)\n",
    "    print(\"Dependent (reject H0)\",'\\n')\n",
    "  else:\n",
    "    print(f\"{col}-Survived \\np-value : \",p_value)\n",
    "    print(\"Independent (fail to reject H0)\",'\\n')"
   ]
  },
  {
   "cell_type": "markdown",
   "metadata": {
    "id": "N1W-iRxEi4nt"
   },
   "source": [
    "Only 'Cabin' had no relation with 'Survived' column. This could also be due to the unavailability of over 75% of the data for 'Cabin'"
   ]
  },
  {
   "cell_type": "code",
   "execution_count": null,
   "metadata": {
    "id": "9FVfE-boWWYh"
   },
   "outputs": [],
   "source": []
  },
  {
   "cell_type": "markdown",
   "metadata": {
    "id": "QtgnYIuCu4zk"
   },
   "source": [
    "# Data Preparation"
   ]
  },
  {
   "cell_type": "code",
   "execution_count": null,
   "metadata": {
    "colab": {
     "base_uri": "https://localhost:8080/"
    },
    "execution": {
     "iopub.execute_input": "2021-08-31T04:45:09.007897Z",
     "iopub.status.busy": "2021-08-31T04:45:09.007613Z",
     "iopub.status.idle": "2021-08-31T04:45:09.01606Z",
     "shell.execute_reply": "2021-08-31T04:45:09.015097Z",
     "shell.execute_reply.started": "2021-08-31T04:45:09.007868Z"
    },
    "id": "A19XpWe8WWDA",
    "outputId": "5a9abd9a-5f0e-400a-a144-b49c1c91d9f7"
   },
   "outputs": [],
   "source": [
    "train_set.dtypes"
   ]
  },
  {
   "cell_type": "code",
   "execution_count": null,
   "metadata": {
    "execution": {
     "iopub.execute_input": "2021-08-31T04:45:09.017778Z",
     "iopub.status.busy": "2021-08-31T04:45:09.017318Z",
     "iopub.status.idle": "2021-08-31T04:45:09.036726Z",
     "shell.execute_reply": "2021-08-31T04:45:09.035525Z",
     "shell.execute_reply.started": "2021-08-31T04:45:09.017742Z"
    },
    "id": "j3djvsRgUZ4q"
   },
   "outputs": [],
   "source": [
    "# Modifying DataType\n",
    "#\n",
    "train_set.loc[:,cat_cols] = train_set[cat_cols].astype('category',errors='ignore')\n",
    "train_set.loc[:,'PassengerId'] = train_set[['PassengerId']].astype('object',errors='ignore')"
   ]
  },
  {
   "cell_type": "code",
   "execution_count": null,
   "metadata": {
    "execution": {
     "iopub.execute_input": "2021-08-31T04:45:09.038954Z",
     "iopub.status.busy": "2021-08-31T04:45:09.038449Z",
     "iopub.status.idle": "2021-08-31T04:45:09.044046Z",
     "shell.execute_reply": "2021-08-31T04:45:09.043047Z",
     "shell.execute_reply.started": "2021-08-31T04:45:09.038918Z"
    },
    "id": "ljir_tTVOPJ6"
   },
   "outputs": [],
   "source": [
    "def missing_count(data,cols=None):\n",
    "  print(\"Number of Instances : \",len(data))\n",
    "  print(\"Number of Missing Values in :\")\n",
    "  df = pd.DataFrame(data)\n",
    "  if cols==None:\n",
    "    cols=df.columns\n",
    "  for x in cols:\n",
    "    count  = df[x].isna().sum()\n",
    "    if count >=1:\n",
    "      print(f' - {x} : {count}({count*100/len(df):0.2f}%)')\n",
    "\n"
   ]
  },
  {
   "cell_type": "code",
   "execution_count": null,
   "metadata": {
    "colab": {
     "base_uri": "https://localhost:8080/"
    },
    "execution": {
     "iopub.execute_input": "2021-08-31T04:45:09.046419Z",
     "iopub.status.busy": "2021-08-31T04:45:09.045805Z",
     "iopub.status.idle": "2021-08-31T04:45:09.06415Z",
     "shell.execute_reply": "2021-08-31T04:45:09.062891Z",
     "shell.execute_reply.started": "2021-08-31T04:45:09.046373Z"
    },
    "id": "0bAr5vox6kkR",
    "outputId": "551abcfb-62dd-4206-892d-f8c59a7a1fa3"
   },
   "outputs": [],
   "source": [
    "missing_count(train_set)"
   ]
  },
  {
   "cell_type": "markdown",
   "metadata": {
    "id": "KVgLD6zIC-OC"
   },
   "source": [
    "- Embarked has 2 values missing, we could remove the entry/instance since its only 2.\n",
    "- Age has 140 values missing, which constitutes about 20% of the whole data. We could impute these missing values.\n",
    "- Cabin has more than 75% of missing values. Ideally we should drop this feature or find some way to extract any available information if possible."
   ]
  },
  {
   "cell_type": "markdown",
   "metadata": {
    "id": "F_Bh9mkAnofR"
   },
   "source": [
    "## Feature Engineering"
   ]
  },
  {
   "cell_type": "markdown",
   "metadata": {
    "id": "7J6KYAw9pcbH"
   },
   "source": [
    "### Feature - 'Embarked '"
   ]
  },
  {
   "cell_type": "code",
   "execution_count": null,
   "metadata": {
    "execution": {
     "iopub.execute_input": "2021-08-31T04:45:09.06603Z",
     "iopub.status.busy": "2021-08-31T04:45:09.065732Z",
     "iopub.status.idle": "2021-08-31T04:45:09.076647Z",
     "shell.execute_reply": "2021-08-31T04:45:09.075646Z",
     "shell.execute_reply.started": "2021-08-31T04:45:09.065998Z"
    },
    "id": "3FZwKhT0RK4I"
   },
   "outputs": [],
   "source": [
    "train_set.dropna(subset=['Embarked'],inplace=True)\n",
    "train_set.reset_index(drop=True,inplace=True)"
   ]
  },
  {
   "cell_type": "markdown",
   "metadata": {
    "id": "9ySbcgPtnQ3m"
   },
   "source": [
    "We shall impute the missing values in 'Age'. We had noticed that 'Pclass' had the highest correlation with 'Age', so instead of taking the median of the whole training set, we shall impute with class-wise(ticket) median age."
   ]
  },
  {
   "cell_type": "markdown",
   "metadata": {
    "id": "vskuJaIYpn9v"
   },
   "source": [
    "### Feature - 'Age'"
   ]
  },
  {
   "cell_type": "code",
   "execution_count": null,
   "metadata": {
    "colab": {
     "base_uri": "https://localhost:8080/"
    },
    "execution": {
     "iopub.execute_input": "2021-08-31T04:45:09.078763Z",
     "iopub.status.busy": "2021-08-31T04:45:09.078174Z",
     "iopub.status.idle": "2021-08-31T04:45:09.09137Z",
     "shell.execute_reply": "2021-08-31T04:45:09.090183Z",
     "shell.execute_reply.started": "2021-08-31T04:45:09.078714Z"
    },
    "id": "D1VbUgqXt4Ft",
    "outputId": "a42ea4f9-ce1b-4ab2-89a1-8667891729a8"
   },
   "outputs": [],
   "source": [
    "pclass_avg_age = train_set.groupby(['Pclass'])['Age'].median()\n",
    "pclass_avg_age"
   ]
  },
  {
   "cell_type": "code",
   "execution_count": null,
   "metadata": {
    "colab": {
     "base_uri": "https://localhost:8080/"
    },
    "execution": {
     "iopub.execute_input": "2021-08-31T04:45:09.093891Z",
     "iopub.status.busy": "2021-08-31T04:45:09.093204Z",
     "iopub.status.idle": "2021-08-31T04:45:09.105777Z",
     "shell.execute_reply": "2021-08-31T04:45:09.104828Z",
     "shell.execute_reply.started": "2021-08-31T04:45:09.093846Z"
    },
    "id": "CjBjOrfn6W_K",
    "outputId": "7a97d3f4-d42f-4dd4-b8ee-56e653461f76"
   },
   "outputs": [],
   "source": [
    "pd.Series(train_set.columns)"
   ]
  },
  {
   "cell_type": "code",
   "execution_count": null,
   "metadata": {
    "execution": {
     "iopub.execute_input": "2021-08-31T04:45:09.108376Z",
     "iopub.status.busy": "2021-08-31T04:45:09.107641Z",
     "iopub.status.idle": "2021-08-31T04:45:09.131616Z",
     "shell.execute_reply": "2021-08-31T04:45:09.130769Z",
     "shell.execute_reply.started": "2021-08-31T04:45:09.108329Z"
    },
    "id": "b9d6L5TOt4Bx"
   },
   "outputs": [],
   "source": [
    "train_set.Age = train_set.apply((lambda x: pclass_avg_age[x[8]] if np.isnan(x[0]) else x[0]),axis=1)"
   ]
  },
  {
   "cell_type": "code",
   "execution_count": null,
   "metadata": {
    "colab": {
     "base_uri": "https://localhost:8080/"
    },
    "execution": {
     "iopub.execute_input": "2021-08-31T04:45:09.133823Z",
     "iopub.status.busy": "2021-08-31T04:45:09.133111Z",
     "iopub.status.idle": "2021-08-31T04:45:09.145279Z",
     "shell.execute_reply": "2021-08-31T04:45:09.144331Z",
     "shell.execute_reply.started": "2021-08-31T04:45:09.133776Z"
    },
    "id": "h-bfCvDEWV9e",
    "outputId": "73dd16e2-2ab8-4fe8-fdcf-ca9939753a23"
   },
   "outputs": [],
   "source": [
    "missing_count(train_set)"
   ]
  },
  {
   "cell_type": "markdown",
   "metadata": {
    "id": "mDHsPy-TDdyo"
   },
   "source": [
    "'Cabin' has over 77% of its values missing, dropping the column is the ideal choice. But before droping, we shall try to extract any information if possible."
   ]
  },
  {
   "cell_type": "markdown",
   "metadata": {
    "id": "NH7QCA7gpy--"
   },
   "source": [
    "### Feature - 'Cabin'"
   ]
  },
  {
   "cell_type": "code",
   "execution_count": null,
   "metadata": {
    "colab": {
     "base_uri": "https://localhost:8080/"
    },
    "execution": {
     "iopub.execute_input": "2021-08-31T04:45:09.147352Z",
     "iopub.status.busy": "2021-08-31T04:45:09.14697Z",
     "iopub.status.idle": "2021-08-31T04:45:09.160088Z",
     "shell.execute_reply": "2021-08-31T04:45:09.158946Z",
     "shell.execute_reply.started": "2021-08-31T04:45:09.147317Z"
    },
    "id": "IfIeyq885Cmq",
    "outputId": "aaf527dc-5d89-4b36-9cea-2ff2ebea956e"
   },
   "outputs": [],
   "source": [
    "print(\"No. of Entries available : \",train_set.Cabin.notna().sum(),'\\n')\n",
    "train_set.Cabin.unique()"
   ]
  },
  {
   "cell_type": "code",
   "execution_count": null,
   "metadata": {
    "colab": {
     "base_uri": "https://localhost:8080/"
    },
    "execution": {
     "iopub.execute_input": "2021-08-31T04:45:09.162291Z",
     "iopub.status.busy": "2021-08-31T04:45:09.161692Z",
     "iopub.status.idle": "2021-08-31T04:45:09.171084Z",
     "shell.execute_reply": "2021-08-31T04:45:09.169899Z",
     "shell.execute_reply.started": "2021-08-31T04:45:09.162244Z"
    },
    "id": "UiMF71nnFVCK",
    "outputId": "8011bb26-ad62-41f5-b075-117a26a370f0"
   },
   "outputs": [],
   "source": [
    "# Checking if all the values in Cabin starts with an alphabet\n",
    "pd.Series([str(x)[0].isalpha() if x!=np.nan else False for x in train_set.Cabin.unique()]).sum()"
   ]
  },
  {
   "cell_type": "code",
   "execution_count": null,
   "metadata": {
    "colab": {
     "base_uri": "https://localhost:8080/"
    },
    "execution": {
     "iopub.execute_input": "2021-08-31T04:45:09.172712Z",
     "iopub.status.busy": "2021-08-31T04:45:09.172407Z",
     "iopub.status.idle": "2021-08-31T04:45:09.189044Z",
     "shell.execute_reply": "2021-08-31T04:45:09.187937Z",
     "shell.execute_reply.started": "2021-08-31T04:45:09.172683Z"
    },
    "id": "ocgqkvJEjcSG",
    "outputId": "4fc92873-4dde-47a7-f166-fb2f4a23c8b2"
   },
   "outputs": [],
   "source": [
    "# Checking if multiple people have the same cabin/s\n",
    "train_set.Cabin.value_counts()"
   ]
  },
  {
   "cell_type": "markdown",
   "metadata": {
    "id": "n09XBccBIgye"
   },
   "source": [
    "As we can see, all of 119 unique elements starts with an alphabet. We could group the Cabin codes using this initial alphabet character."
   ]
  },
  {
   "cell_type": "code",
   "execution_count": null,
   "metadata": {
    "colab": {
     "base_uri": "https://localhost:8080/"
    },
    "execution": {
     "iopub.execute_input": "2021-08-31T04:45:09.190713Z",
     "iopub.status.busy": "2021-08-31T04:45:09.190391Z",
     "iopub.status.idle": "2021-08-31T04:45:09.203589Z",
     "shell.execute_reply": "2021-08-31T04:45:09.202411Z",
     "shell.execute_reply.started": "2021-08-31T04:45:09.190682Z"
    },
    "id": "I065VJBUogVG",
    "outputId": "3adc25d9-9d84-47b8-f3a2-bd7f63be8b37"
   },
   "outputs": [],
   "source": [
    "shared_cabins = train_set.Cabin.value_counts()[train_set.Cabin.value_counts()>1].index\n",
    "shared_cabins"
   ]
  },
  {
   "cell_type": "code",
   "execution_count": null,
   "metadata": {
    "colab": {
     "base_uri": "https://localhost:8080/"
    },
    "execution": {
     "iopub.execute_input": "2021-08-31T04:45:09.205602Z",
     "iopub.status.busy": "2021-08-31T04:45:09.205212Z",
     "iopub.status.idle": "2021-08-31T04:45:09.213692Z",
     "shell.execute_reply": "2021-08-31T04:45:09.212524Z",
     "shell.execute_reply.started": "2021-08-31T04:45:09.205569Z"
    },
    "id": "5PtKtZeV5Cqn",
    "outputId": "1ce69da6-0ab0-45d5-f06f-36a72511c7af"
   },
   "outputs": [],
   "source": [
    "cabins=[]\n",
    "for x in train_set.Cabin.value_counts().index:\n",
    "  if ' ' in x:\n",
    "    cabins.extend(x.split(' '))\n",
    "  else:\n",
    "    cabins.append(x)\n",
    "print(cabins)"
   ]
  },
  {
   "cell_type": "code",
   "execution_count": null,
   "metadata": {
    "colab": {
     "base_uri": "https://localhost:8080/"
    },
    "execution": {
     "iopub.execute_input": "2021-08-31T04:45:09.215753Z",
     "iopub.status.busy": "2021-08-31T04:45:09.215318Z",
     "iopub.status.idle": "2021-08-31T04:45:09.22748Z",
     "shell.execute_reply": "2021-08-31T04:45:09.226497Z",
     "shell.execute_reply.started": "2021-08-31T04:45:09.215709Z"
    },
    "id": "MblbqfkbP3Ex",
    "outputId": "5f090698-d57e-46b0-c041-b9ce420a0f14"
   },
   "outputs": [],
   "source": [
    "cabin_cat = []\n",
    "cabin_cat.extend([x[0] for x in cabins])\n",
    "pd.Series(cabin_cat).value_counts()"
   ]
  },
  {
   "cell_type": "code",
   "execution_count": null,
   "metadata": {
    "execution": {
     "iopub.execute_input": "2021-08-31T04:45:09.229089Z",
     "iopub.status.busy": "2021-08-31T04:45:09.228822Z",
     "iopub.status.idle": "2021-08-31T04:45:09.244234Z",
     "shell.execute_reply": "2021-08-31T04:45:09.243272Z",
     "shell.execute_reply.started": "2021-08-31T04:45:09.229062Z"
    },
    "id": "_Q7x4yhnRFVb"
   },
   "outputs": [],
   "source": [
    "for cabin_x in set(cabin_cat):\n",
    "  train_set[f'Cabin_{cabin_x}']=[int(cabin_x in str(x)) for x in train_set.Cabin]"
   ]
  },
  {
   "cell_type": "markdown",
   "metadata": {
    "id": "7dQAY5YfLCAs"
   },
   "source": [
    "We could also try to group Cabins by the number of passengers in it and also by Cabins with more than 1 passenger as passengers in groups may have higher chance of survival."
   ]
  },
  {
   "cell_type": "code",
   "execution_count": null,
   "metadata": {
    "execution": {
     "iopub.execute_input": "2021-08-31T04:45:09.245707Z",
     "iopub.status.busy": "2021-08-31T04:45:09.245415Z",
     "iopub.status.idle": "2021-08-31T04:45:09.291876Z",
     "shell.execute_reply": "2021-08-31T04:45:09.290621Z",
     "shell.execute_reply.started": "2021-08-31T04:45:09.245679Z"
    },
    "id": "JydPGVvjpY-r"
   },
   "outputs": [],
   "source": [
    "# Categories of Cabins with more than 1 passenger.\n",
    "\n",
    "for cabin_ in shared_cabins:\n",
    "  train_set[f'Cabin_shared_{cabin_}']=[int(x==cabin_) for x in train_set.Cabin]"
   ]
  },
  {
   "cell_type": "code",
   "execution_count": null,
   "metadata": {
    "colab": {
     "base_uri": "https://localhost:8080/"
    },
    "execution": {
     "iopub.execute_input": "2021-08-31T04:45:09.293737Z",
     "iopub.status.busy": "2021-08-31T04:45:09.293307Z",
     "iopub.status.idle": "2021-08-31T04:45:09.308652Z",
     "shell.execute_reply": "2021-08-31T04:45:09.307563Z",
     "shell.execute_reply.started": "2021-08-31T04:45:09.293693Z"
    },
    "id": "Xobb2SDZW1h_",
    "outputId": "727a1c50-95bf-4e3f-aa56-cd27f46668ee"
   },
   "outputs": [],
   "source": [
    "passengers_in_cabin = train_set.Cabin.value_counts()[train_set.Cabin.value_counts()>1]\n",
    "passengers_in_cabin"
   ]
  },
  {
   "cell_type": "code",
   "execution_count": null,
   "metadata": {
    "execution": {
     "iopub.execute_input": "2021-08-31T04:45:09.310507Z",
     "iopub.status.busy": "2021-08-31T04:45:09.310106Z",
     "iopub.status.idle": "2021-08-31T04:45:09.35082Z",
     "shell.execute_reply": "2021-08-31T04:45:09.349775Z",
     "shell.execute_reply.started": "2021-08-31T04:45:09.310467Z"
    },
    "id": "SjkkCPl5WvFr"
   },
   "outputs": [],
   "source": [
    "for n in passengers_in_cabin.unique():\n",
    "  train_set[f'{n}_Passenger_Cabin'] =  0\n",
    "for index,x in enumerate(train_set.Cabin):\n",
    "  if x in passengers_in_cabin.index:\n",
    "    n = passengers_in_cabin[x]\n",
    "    train_set.loc[index,f'{n}_Passenger_Cabin'] =  1"
   ]
  },
  {
   "cell_type": "code",
   "execution_count": null,
   "metadata": {
    "colab": {
     "base_uri": "https://localhost:8080/"
    },
    "execution": {
     "iopub.execute_input": "2021-08-31T04:45:09.353105Z",
     "iopub.status.busy": "2021-08-31T04:45:09.35251Z",
     "iopub.status.idle": "2021-08-31T04:45:09.366949Z",
     "shell.execute_reply": "2021-08-31T04:45:09.365756Z",
     "shell.execute_reply.started": "2021-08-31T04:45:09.353056Z"
    },
    "id": "VLtEJcHxYPgR",
    "outputId": "7e22200c-18dc-4a09-b02f-301944275dda"
   },
   "outputs": [],
   "source": [
    "train_set.columns"
   ]
  },
  {
   "cell_type": "code",
   "execution_count": null,
   "metadata": {
    "id": "WJptCaAaIekb"
   },
   "outputs": [],
   "source": []
  },
  {
   "cell_type": "markdown",
   "metadata": {
    "id": "vj3iFkCMo2GD"
   },
   "source": [
    "We shall create a method to do the above done cleaning tasks"
   ]
  },
  {
   "cell_type": "code",
   "execution_count": null,
   "metadata": {
    "execution": {
     "iopub.execute_input": "2021-08-31T04:45:09.369509Z",
     "iopub.status.busy": "2021-08-31T04:45:09.368956Z",
     "iopub.status.idle": "2021-08-31T04:45:09.378544Z",
     "shell.execute_reply": "2021-08-31T04:45:09.377505Z",
     "shell.execute_reply.started": "2021-08-31T04:45:09.369452Z"
    },
    "id": "Drz418QJDWIS"
   },
   "outputs": [],
   "source": [
    "def clean_data(X):\n",
    "\n",
    "    # Modifying DataType\n",
    "    X.loc[:,cat_cols] = X[cat_cols].astype('category',errors='ignore')\n",
    "    X.loc[:,'PassengerId'] = X[['PassengerId']].astype('object',errors='ignore')\n",
    "    X.loc[:,num_cols] = X[num_cols].apply(lambda x: pd.to_numeric(x,errors='coerce'),axis=1)\n",
    "    \n",
    "    #Dropping Missing values in Embarked\n",
    "    X.dropna(subset=['Embarked'],inplace=True)\n",
    "\n",
    "    # Imputing Missing values in Age\n",
    "    X.Age = X.apply((lambda x: pclass_avg_age[x[8]] if np.isnan(x[0]) else x[0]),axis=1)\n",
    "\n",
    "    X = X.reset_index(drop=True)\n",
    "\n",
    "    if 'Survived' in X:\n",
    "      y = X.Survived\n",
    "      X = X.drop(['Survived'],axis=1)\n",
    "\n",
    "      return X,y\n",
    "    else:\n",
    "      return X\n"
   ]
  },
  {
   "cell_type": "code",
   "execution_count": null,
   "metadata": {
    "id": "LGf3JfTAWV4l"
   },
   "outputs": [],
   "source": []
  },
  {
   "cell_type": "markdown",
   "metadata": {
    "id": "n0iqmzmPVIfo"
   },
   "source": [
    "We could follow a similar approach to 'Ticket' as in 'Cabin'. We shall try to extract any useful information possible from Ticket column."
   ]
  },
  {
   "cell_type": "markdown",
   "metadata": {
    "id": "E9mbTt-ep48r"
   },
   "source": [
    "### Feature - 'Ticket'"
   ]
  },
  {
   "cell_type": "code",
   "execution_count": null,
   "metadata": {
    "colab": {
     "base_uri": "https://localhost:8080/"
    },
    "execution": {
     "iopub.execute_input": "2021-08-31T04:45:09.380267Z",
     "iopub.status.busy": "2021-08-31T04:45:09.37997Z",
     "iopub.status.idle": "2021-08-31T04:45:09.397384Z",
     "shell.execute_reply": "2021-08-31T04:45:09.396368Z",
     "shell.execute_reply.started": "2021-08-31T04:45:09.380233Z"
    },
    "id": "G6R2pMZdVw8w",
    "outputId": "c19a224a-f273-48ca-edf9-aa859bb54b3f"
   },
   "outputs": [],
   "source": [
    "train_set.Ticket.nunique()"
   ]
  },
  {
   "cell_type": "code",
   "execution_count": null,
   "metadata": {
    "colab": {
     "base_uri": "https://localhost:8080/"
    },
    "execution": {
     "iopub.execute_input": "2021-08-31T04:45:09.399354Z",
     "iopub.status.busy": "2021-08-31T04:45:09.399038Z",
     "iopub.status.idle": "2021-08-31T04:45:09.410694Z",
     "shell.execute_reply": "2021-08-31T04:45:09.409537Z",
     "shell.execute_reply.started": "2021-08-31T04:45:09.399323Z"
    },
    "id": "LlmT7aR9WRLf",
    "outputId": "f3433f29-649b-4609-ad09-26092f71239f"
   },
   "outputs": [],
   "source": [
    "train_set.Ticket.head(25)"
   ]
  },
  {
   "cell_type": "code",
   "execution_count": null,
   "metadata": {
    "colab": {
     "base_uri": "https://localhost:8080/"
    },
    "execution": {
     "iopub.execute_input": "2021-08-31T04:45:09.412401Z",
     "iopub.status.busy": "2021-08-31T04:45:09.412001Z",
     "iopub.status.idle": "2021-08-31T04:45:09.428715Z",
     "shell.execute_reply": "2021-08-31T04:45:09.42751Z",
     "shell.execute_reply.started": "2021-08-31T04:45:09.412364Z"
    },
    "id": "MEtZa59kYUKN",
    "outputId": "83e54360-bd08-449d-8195-cf716a77348b"
   },
   "outputs": [],
   "source": [
    "# Checking if the initial text in String are random/unique or if it has any significance\n",
    "pd.Series([str(x).split(' ')[0] if ' ' in str(x) else x for x in train_set.Ticket]).value_counts()"
   ]
  },
  {
   "cell_type": "markdown",
   "metadata": {
    "id": "t-YRw5DrWbMB"
   },
   "source": [
    "The tickets seems much more random at first glance apart from the fact that they are mostly numerical or numericals preceeded by some text. Individuals travelling together will have the same ticket code."
   ]
  },
  {
   "cell_type": "code",
   "execution_count": null,
   "metadata": {
    "colab": {
     "base_uri": "https://localhost:8080/"
    },
    "execution": {
     "iopub.execute_input": "2021-08-31T04:45:09.430893Z",
     "iopub.status.busy": "2021-08-31T04:45:09.430326Z",
     "iopub.status.idle": "2021-08-31T04:45:09.44264Z",
     "shell.execute_reply": "2021-08-31T04:45:09.441531Z",
     "shell.execute_reply.started": "2021-08-31T04:45:09.430843Z"
    },
    "id": "X_8Ulv-m6jYR",
    "outputId": "8f3d4967-afe4-444f-80d0-4191651fc81c"
   },
   "outputs": [],
   "source": [
    "ticket_codes=[]\n",
    "for x in train_set.Ticket.value_counts().index:\n",
    "  if ' ' in x:\n",
    "    ticket_codes.append(x.split(' ')[0])\n",
    "print(ticket_codes)"
   ]
  },
  {
   "cell_type": "code",
   "execution_count": null,
   "metadata": {
    "colab": {
     "base_uri": "https://localhost:8080/"
    },
    "execution": {
     "iopub.execute_input": "2021-08-31T04:45:09.446068Z",
     "iopub.status.busy": "2021-08-31T04:45:09.445693Z",
     "iopub.status.idle": "2021-08-31T04:45:09.456664Z",
     "shell.execute_reply": "2021-08-31T04:45:09.455721Z",
     "shell.execute_reply.started": "2021-08-31T04:45:09.446033Z"
    },
    "id": "PoZaS_Iu85BO",
    "outputId": "43a8b288-d686-4ec5-83d5-a1fbbfdf55ac"
   },
   "outputs": [],
   "source": [
    "ticket_codes = [x.replace('.','') for x in ticket_codes]\n",
    "ticket_pattern_uniq = pd.Series(ticket_codes).unique()\n",
    "pd.Series(ticket_codes).value_counts()"
   ]
  },
  {
   "cell_type": "code",
   "execution_count": null,
   "metadata": {
    "execution": {
     "iopub.execute_input": "2021-08-31T04:45:09.458314Z",
     "iopub.status.busy": "2021-08-31T04:45:09.457975Z",
     "iopub.status.idle": "2021-08-31T04:45:09.497922Z",
     "shell.execute_reply": "2021-08-31T04:45:09.497113Z",
     "shell.execute_reply.started": "2021-08-31T04:45:09.458282Z"
    },
    "id": "H25cyZRF98YC"
   },
   "outputs": [],
   "source": [
    "for x in ticket_pattern_uniq:\n",
    "  train_set['Ticket_'+x] = [int(x == str(y).split(' ')[0].replace('.','')) for y in train_set.Ticket]"
   ]
  },
  {
   "cell_type": "code",
   "execution_count": null,
   "metadata": {
    "colab": {
     "base_uri": "https://localhost:8080/"
    },
    "execution": {
     "iopub.execute_input": "2021-08-31T04:45:09.499509Z",
     "iopub.status.busy": "2021-08-31T04:45:09.49905Z",
     "iopub.status.idle": "2021-08-31T04:45:09.514112Z",
     "shell.execute_reply": "2021-08-31T04:45:09.513156Z",
     "shell.execute_reply.started": "2021-08-31T04:45:09.499477Z"
    },
    "id": "8E-rXNYPrMj5",
    "outputId": "422bd685-7b3d-4df2-9ba6-b08278eb4976"
   },
   "outputs": [],
   "source": [
    "shared_tickets = train_set.Ticket.value_counts()[train_set.Ticket.value_counts()>1]\n",
    "shared_tickets"
   ]
  },
  {
   "cell_type": "code",
   "execution_count": null,
   "metadata": {
    "execution": {
     "iopub.execute_input": "2021-08-31T04:45:09.515736Z",
     "iopub.status.busy": "2021-08-31T04:45:09.515458Z",
     "iopub.status.idle": "2021-08-31T04:45:09.597507Z",
     "shell.execute_reply": "2021-08-31T04:45:09.596519Z",
     "shell.execute_reply.started": "2021-08-31T04:45:09.515706Z"
    },
    "id": "LcGOPqtZdibb"
   },
   "outputs": [],
   "source": [
    "for n in shared_tickets.unique():\n",
    "  train_set[f'{n}_Passenger_Ticket'] =  0\n",
    "for index,x in enumerate(train_set.Ticket):\n",
    "  if x in shared_tickets.index:\n",
    "    n = shared_tickets[x]\n",
    "    train_set.loc[index,f'{n}_Passenger_Ticket'] =  1"
   ]
  },
  {
   "cell_type": "code",
   "execution_count": null,
   "metadata": {
    "colab": {
     "base_uri": "https://localhost:8080/",
     "height": 484
    },
    "execution": {
     "iopub.execute_input": "2021-08-31T04:45:09.598974Z",
     "iopub.status.busy": "2021-08-31T04:45:09.598692Z",
     "iopub.status.idle": "2021-08-31T04:45:09.627327Z",
     "shell.execute_reply": "2021-08-31T04:45:09.626645Z",
     "shell.execute_reply.started": "2021-08-31T04:45:09.598944Z"
    },
    "id": "-mG6tNtWc_1-",
    "outputId": "98db02de-bbaf-483d-9f27-78b65dfb2107"
   },
   "outputs": [],
   "source": [
    "train_set.sample(5)"
   ]
  },
  {
   "cell_type": "code",
   "execution_count": null,
   "metadata": {
    "id": "V8_sI3hPGWEe"
   },
   "outputs": [],
   "source": []
  },
  {
   "cell_type": "markdown",
   "metadata": {
    "id": "aUTaFvyEp-yR"
   },
   "source": [
    "### Feature - 'PassengerId'"
   ]
  },
  {
   "cell_type": "code",
   "execution_count": null,
   "metadata": {
    "colab": {
     "base_uri": "https://localhost:8080/"
    },
    "execution": {
     "iopub.execute_input": "2021-08-31T04:45:09.629055Z",
     "iopub.status.busy": "2021-08-31T04:45:09.628562Z",
     "iopub.status.idle": "2021-08-31T04:45:09.636636Z",
     "shell.execute_reply": "2021-08-31T04:45:09.635728Z",
     "shell.execute_reply.started": "2021-08-31T04:45:09.629019Z"
    },
    "id": "SLr9H__xLeuQ",
    "outputId": "4e983c4d-c562-4add-a24b-c89721a1e861"
   },
   "outputs": [],
   "source": [
    "train_set['PassengerId']"
   ]
  },
  {
   "cell_type": "markdown",
   "metadata": {
    "id": "X2t7hYocLpLH"
   },
   "source": [
    "- PassengerId column contains unique integer values only, no useful information can be extracted from them. Dropping is ideal."
   ]
  },
  {
   "cell_type": "code",
   "execution_count": null,
   "metadata": {
    "id": "dGnoRoCUMe0P"
   },
   "outputs": [],
   "source": []
  },
  {
   "cell_type": "code",
   "execution_count": null,
   "metadata": {
    "colab": {
     "base_uri": "https://localhost:8080/"
    },
    "execution": {
     "iopub.execute_input": "2021-08-31T04:45:09.638512Z",
     "iopub.status.busy": "2021-08-31T04:45:09.638179Z",
     "iopub.status.idle": "2021-08-31T04:45:09.651641Z",
     "shell.execute_reply": "2021-08-31T04:45:09.650738Z",
     "shell.execute_reply.started": "2021-08-31T04:45:09.638481Z"
    },
    "id": "_Fe2pyADGXyn",
    "outputId": "ea939e3f-bc90-4894-dbb8-2b0c04588ad5"
   },
   "outputs": [],
   "source": [
    "train_set['Name']"
   ]
  },
  {
   "cell_type": "markdown",
   "metadata": {
    "id": "kodPzmDvMF0_"
   },
   "source": [
    "- For passenger 'Name', all seems to have a 'Title'."
   ]
  },
  {
   "cell_type": "code",
   "execution_count": null,
   "metadata": {
    "colab": {
     "base_uri": "https://localhost:8080/"
    },
    "execution": {
     "iopub.execute_input": "2021-08-31T04:45:09.653163Z",
     "iopub.status.busy": "2021-08-31T04:45:09.65276Z",
     "iopub.status.idle": "2021-08-31T04:45:09.669917Z",
     "shell.execute_reply": "2021-08-31T04:45:09.668461Z",
     "shell.execute_reply.started": "2021-08-31T04:45:09.65312Z"
    },
    "id": "Zr3EKvJPfy7l",
    "outputId": "22c9aa27-53da-4740-a3f8-7ab9c6777f11"
   },
   "outputs": [],
   "source": [
    "train_set['Title'] = train_set['Name'].apply(lambda x: x.split(', ')[1].split('.')[0])\n",
    "print(train_set['Title'].unique())\n",
    "train_set['Title'].nunique()"
   ]
  },
  {
   "cell_type": "markdown",
   "metadata": {
    "id": "YBvoC4pPMgif"
   },
   "source": [
    "- All passengers have a title in their name and to be specific there are 14 titles. \n",
    "- Mlle is French for Ms, so we shall replace this."
   ]
  },
  {
   "cell_type": "code",
   "execution_count": null,
   "metadata": {
    "colab": {
     "base_uri": "https://localhost:8080/"
    },
    "execution": {
     "iopub.execute_input": "2021-08-31T04:45:09.671944Z",
     "iopub.status.busy": "2021-08-31T04:45:09.671559Z",
     "iopub.status.idle": "2021-08-31T04:45:09.6855Z",
     "shell.execute_reply": "2021-08-31T04:45:09.684108Z",
     "shell.execute_reply.started": "2021-08-31T04:45:09.671905Z"
    },
    "id": "pv9yrSEtG8Vx",
    "outputId": "635f81c2-b7bd-4479-86c5-2b6e95a109ad"
   },
   "outputs": [],
   "source": [
    "train_set['Title'] = train_set['Title'].replace(['Mlle'],['Ms'])\n",
    "print(train_set['Title'].unique())\n",
    "train_set['Title'].nunique()"
   ]
  },
  {
   "cell_type": "code",
   "execution_count": null,
   "metadata": {
    "colab": {
     "base_uri": "https://localhost:8080/",
     "height": 141
    },
    "execution": {
     "iopub.execute_input": "2021-08-31T04:45:09.687693Z",
     "iopub.status.busy": "2021-08-31T04:45:09.68724Z",
     "iopub.status.idle": "2021-08-31T04:45:09.725857Z",
     "shell.execute_reply": "2021-08-31T04:45:09.724955Z",
     "shell.execute_reply.started": "2021-08-31T04:45:09.687643Z"
    },
    "id": "qJw6UfhMgr6x",
    "outputId": "29fb4311-85ee-4804-f5e0-2ffe8826fe20"
   },
   "outputs": [],
   "source": [
    "pd.crosstab(train_set['Survived'],train_set['Title'])"
   ]
  },
  {
   "cell_type": "code",
   "execution_count": null,
   "metadata": {
    "colab": {
     "base_uri": "https://localhost:8080/",
     "height": 368
    },
    "execution": {
     "iopub.execute_input": "2021-08-31T04:45:09.727509Z",
     "iopub.status.busy": "2021-08-31T04:45:09.727199Z",
     "iopub.status.idle": "2021-08-31T04:45:10.06072Z",
     "shell.execute_reply": "2021-08-31T04:45:10.059359Z",
     "shell.execute_reply.started": "2021-08-31T04:45:09.727477Z"
    },
    "id": "Fje_cln5If8p",
    "outputId": "928b3340-c98a-4947-9e5d-a2bc5c952e80"
   },
   "outputs": [],
   "source": [
    "fig,ax = plt.subplots(figsize=(12,5))\n",
    "sns.countplot(hue='Survived',data=train_set,x='Title',)\n",
    "plt.tight_layout()"
   ]
  },
  {
   "cell_type": "code",
   "execution_count": null,
   "metadata": {
    "id": "wzbhIBFRjShQ"
   },
   "outputs": [],
   "source": []
  },
  {
   "cell_type": "markdown",
   "metadata": {
    "id": "lYLFjy2vOymi"
   },
   "source": [
    "We could also add a feature of Family Size"
   ]
  },
  {
   "cell_type": "markdown",
   "metadata": {
    "id": "c4VQxVPCqIjT"
   },
   "source": [
    "### Feature - 'SibSp' & 'Parch'"
   ]
  },
  {
   "cell_type": "code",
   "execution_count": null,
   "metadata": {
    "colab": {
     "base_uri": "https://localhost:8080/"
    },
    "execution": {
     "iopub.execute_input": "2021-08-31T04:45:10.063161Z",
     "iopub.status.busy": "2021-08-31T04:45:10.062688Z",
     "iopub.status.idle": "2021-08-31T04:45:10.072301Z",
     "shell.execute_reply": "2021-08-31T04:45:10.071196Z",
     "shell.execute_reply.started": "2021-08-31T04:45:10.063112Z"
    },
    "id": "9Ih8iHBHO4et",
    "outputId": "75a340b8-3459-4168-b9fb-c41a85350111"
   },
   "outputs": [],
   "source": [
    "train_set['FamilySize'] = train_set.SibSp +\ttrain_set.Parch\n",
    "train_set['FamilySize'].unique()"
   ]
  },
  {
   "cell_type": "markdown",
   "metadata": {
    "id": "df0pHytmCYVV"
   },
   "source": [
    "We have now extracted information from the features 'Cabin','Ticket' and 'Name' and now we shall drop these columns along with 'PassengerId'.\n"
   ]
  },
  {
   "cell_type": "code",
   "execution_count": null,
   "metadata": {
    "execution": {
     "iopub.execute_input": "2021-08-31T04:45:10.074363Z",
     "iopub.status.busy": "2021-08-31T04:45:10.073956Z",
     "iopub.status.idle": "2021-08-31T04:45:10.084274Z",
     "shell.execute_reply": "2021-08-31T04:45:10.083345Z",
     "shell.execute_reply.started": "2021-08-31T04:45:10.074317Z"
    },
    "id": "WgLFnkYsnGRw"
   },
   "outputs": [],
   "source": [
    "train_set.drop(['Cabin','Ticket','PassengerId','Name'],axis=1,inplace=True)"
   ]
  },
  {
   "cell_type": "code",
   "execution_count": null,
   "metadata": {
    "execution": {
     "iopub.execute_input": "2021-08-31T04:45:10.086354Z",
     "iopub.status.busy": "2021-08-31T04:45:10.085941Z",
     "iopub.status.idle": "2021-08-31T04:45:10.093393Z",
     "shell.execute_reply": "2021-08-31T04:45:10.092672Z",
     "shell.execute_reply.started": "2021-08-31T04:45:10.086306Z"
    },
    "id": "6PSjNmRdQ9wu"
   },
   "outputs": [],
   "source": [
    "cat_cols_updated = list(cat_cols)\n",
    "cat_cols_updated.append('Title')\n",
    "num_cols_updated = list(num_cols)\n",
    "num_cols_updated.append('FamilySize')"
   ]
  },
  {
   "cell_type": "code",
   "execution_count": null,
   "metadata": {
    "colab": {
     "base_uri": "https://localhost:8080/",
     "height": 586
    },
    "execution": {
     "iopub.execute_input": "2021-08-31T04:45:10.095384Z",
     "iopub.status.busy": "2021-08-31T04:45:10.094996Z",
     "iopub.status.idle": "2021-08-31T04:45:12.793253Z",
     "shell.execute_reply": "2021-08-31T04:45:12.792244Z",
     "shell.execute_reply.started": "2021-08-31T04:45:10.095342Z"
    },
    "id": "HY3iFmtvRWbv",
    "outputId": "5051674e-d376-4d0e-87fa-6d2a2fb44dd9"
   },
   "outputs": [],
   "source": [
    "for i,col in enumerate(['Title','FamilySize']):\n",
    "  j=0\n",
    "  fig,ax = plt.subplots(1,4,figsize=(24,4),)\n",
    "  for col1 in ['Pclass','Sex','Embarked','Survived']:\n",
    "      sns.countplot(x=col,data=train_set,hue=col1,ax=ax[j])\n",
    "      j=j+1\n",
    "  \n",
    "  fig.suptitle(col,size=16)\n",
    "  fig.tight_layout()"
   ]
  },
  {
   "cell_type": "code",
   "execution_count": null,
   "metadata": {
    "id": "yTr5gjf9fgcw"
   },
   "outputs": [],
   "source": []
  },
  {
   "cell_type": "markdown",
   "metadata": {
    "id": "nptTC7aAqv7n"
   },
   "source": [
    "We will create a Custom Transformer to extract/create new features"
   ]
  },
  {
   "cell_type": "code",
   "execution_count": null,
   "metadata": {
    "execution": {
     "iopub.execute_input": "2021-08-31T04:45:12.795301Z",
     "iopub.status.busy": "2021-08-31T04:45:12.794894Z",
     "iopub.status.idle": "2021-08-31T04:45:12.800584Z",
     "shell.execute_reply": "2021-08-31T04:45:12.79947Z",
     "shell.execute_reply.started": "2021-08-31T04:45:12.795253Z"
    },
    "id": "1QudVziraWr2"
   },
   "outputs": [],
   "source": [
    "from sklearn.base import TransformerMixin,BaseEstimator"
   ]
  },
  {
   "cell_type": "code",
   "execution_count": null,
   "metadata": {
    "execution": {
     "iopub.execute_input": "2021-08-31T04:45:12.802133Z",
     "iopub.status.busy": "2021-08-31T04:45:12.801848Z",
     "iopub.status.idle": "2021-08-31T04:45:12.814668Z",
     "shell.execute_reply": "2021-08-31T04:45:12.813647Z",
     "shell.execute_reply.started": "2021-08-31T04:45:12.802103Z"
    },
    "id": "CT6A6qk00uLI"
   },
   "outputs": [],
   "source": [
    "class FeatureEngineering(TransformerMixin,BaseEstimator):\n",
    "\n",
    "  def __init__(self):\n",
    "    self\n",
    "  \n",
    "  def fit(self,X,y=None):\n",
    "    return self\n",
    "\n",
    "  def transform(self,X,y=None):\n",
    "\n",
    "    X = X.reset_index(drop=True)\n",
    "\n",
    "    # Creating Feature 'Title'\n",
    "    X['Title'] = X['Name'].apply(lambda x: x.split(', ')[1].split('.')[0])\n",
    "    X['Title'] = X['Title'].replace(['Mlle'],['Ms'])\n",
    "\n",
    "    # Creating Feature 'FamilySize'\n",
    "    X['FamilySize'] = X.SibSp +\tX.Parch\n",
    "\n",
    "\n",
    "    #cabins=[]\n",
    "    #cabin_cat = []\n",
    "    #for x in X.Cabin.value_counts().index:\n",
    "    #  if ' ' in x:\n",
    "    #    cabins.extend(x.split(' '))\n",
    "    #  else:\n",
    "    #    cabins.append(x)\n",
    "    #cabin_cat.extend([x[0] for x in cabins])\n",
    "    for cabin_x in set(cabin_cat):\n",
    "      X[f'Cabin_{cabin_x}']=[int(cabin_x in str(x)) for x in X.Cabin]\n",
    "\n",
    "    #shared_cabins = X.Cabin.value_counts()[X.Cabin.value_counts()>1].index\n",
    "    for cabin_ in shared_cabins:\n",
    "      X[f'Cabin_shared_{cabin_}']=[int(x==cabin_) for x in X.Cabin]\n",
    "\n",
    "    #passengers_in_cabin = X.Cabin.value_counts()[X.Cabin.value_counts()>1]\n",
    "    for n in passengers_in_cabin.unique():\n",
    "      X[f'{n}_Passenger_Cabin'] =  0\n",
    "    for index,x in enumerate(X.Cabin):\n",
    "      if x in passengers_in_cabin.index:\n",
    "        n = passengers_in_cabin[x]\n",
    "        X.loc[index,f'{n}_Passenger_Cabin'] =  1\n",
    "\n",
    "\n",
    "    #ticket_codes=[]\n",
    "    #for x in X.Ticket.value_counts().index:\n",
    "    #  if ' ' in x:\n",
    "    #    ticket_codes.append(x.split(' ')[0])\n",
    "    #ticket_codes = [x.replace('.','') for x in ticket_codes]\n",
    "    #ticket_pattern_uniq = pd.Series(ticket_codes).unique()\n",
    "    for x in ticket_pattern_uniq:\n",
    "      X['Ticket_'+x] = [int(x == str(y).split(' ')[0].replace('.','')) for y in X.Ticket]\n",
    "\n",
    "    for ticket_ in shared_tickets.index:\n",
    "      X[f'Ticket_shared_{ticket_}']=[int(x==ticket_) for x in X.Ticket]\n",
    "\n",
    "    #shared_tickets = X.Ticket.value_counts()[X.Ticket.value_counts()>1]\n",
    "    for n in shared_tickets.unique():\n",
    "      X[f'{n}_Passenger_Ticket'] =  0\n",
    "    for index,x in enumerate(X.Ticket):\n",
    "      if x in shared_tickets.index:\n",
    "        n = shared_tickets[x]\n",
    "        X.loc[index,f'{n}_Passenger_Ticket'] =  1\n",
    "\n",
    "    X = X.drop(['PassengerId','Name','Ticket', 'Cabin'],axis=1)\n",
    "\n",
    "    return X\n"
   ]
  },
  {
   "cell_type": "code",
   "execution_count": null,
   "metadata": {
    "execution": {
     "iopub.execute_input": "2021-08-31T04:45:12.82439Z",
     "iopub.status.busy": "2021-08-31T04:45:12.823918Z",
     "iopub.status.idle": "2021-08-31T04:45:12.829986Z",
     "shell.execute_reply": "2021-08-31T04:45:12.829082Z",
     "shell.execute_reply.started": "2021-08-31T04:45:12.82435Z"
    },
    "id": "Fev541M3PrGw"
   },
   "outputs": [],
   "source": [
    "# A custom transformer to view the data inbetween the various stages of the pipeline\n",
    "class TransformationSubStage(TransformerMixin,BaseEstimator):\n",
    "\n",
    "  def __init__(self):\n",
    "    self\n",
    "    self.transformed_X = None\n",
    "    self.transformed_y = None\n",
    "  \n",
    "  def fit(self,X,y=None):\n",
    "    return self\n",
    "\n",
    "  def transform(self,X,y=None):\n",
    "    self.transformed_X = X\n",
    "    self.transformed_y = y\n",
    "    return X"
   ]
  },
  {
   "cell_type": "markdown",
   "metadata": {
    "id": "xJGklG28rWYr"
   },
   "source": [
    "## Building a Pipeline"
   ]
  },
  {
   "cell_type": "code",
   "execution_count": null,
   "metadata": {
    "execution": {
     "iopub.execute_input": "2021-08-31T04:45:12.834677Z",
     "iopub.status.busy": "2021-08-31T04:45:12.834285Z",
     "iopub.status.idle": "2021-08-31T04:45:13.008863Z",
     "shell.execute_reply": "2021-08-31T04:45:13.007747Z",
     "shell.execute_reply.started": "2021-08-31T04:45:12.834639Z"
    },
    "id": "dw6p_BIW5gVm"
   },
   "outputs": [],
   "source": [
    "from sklearn.pipeline import Pipeline\n",
    "from sklearn.compose import ColumnTransformer\n",
    "from sklearn.impute import SimpleImputer\n",
    "from sklearn.decomposition import PCA"
   ]
  },
  {
   "cell_type": "code",
   "execution_count": null,
   "metadata": {
    "execution": {
     "iopub.execute_input": "2021-08-31T04:45:13.010685Z",
     "iopub.status.busy": "2021-08-31T04:45:13.01031Z",
     "iopub.status.idle": "2021-08-31T04:45:13.018079Z",
     "shell.execute_reply": "2021-08-31T04:45:13.016938Z",
     "shell.execute_reply.started": "2021-08-31T04:45:13.01065Z"
    },
    "id": "4PbNXYAlYNKg"
   },
   "outputs": [],
   "source": [
    "from sklearn.preprocessing import StandardScaler,OneHotEncoder"
   ]
  },
  {
   "cell_type": "code",
   "execution_count": null,
   "metadata": {
    "execution": {
     "iopub.execute_input": "2021-08-31T04:45:13.019919Z",
     "iopub.status.busy": "2021-08-31T04:45:13.019621Z",
     "iopub.status.idle": "2021-08-31T04:45:13.029604Z",
     "shell.execute_reply": "2021-08-31T04:45:13.028348Z",
     "shell.execute_reply.started": "2021-08-31T04:45:13.019889Z"
    },
    "id": "w8oSlFyB4dbS"
   },
   "outputs": [],
   "source": [
    "sub_pipe1 = Pipeline([\n",
    "                      ('imputer',SimpleImputer(strategy='most_frequent')),\n",
    "                      (('ohe',OneHotEncoder(handle_unknown='ignore')))\n",
    "])"
   ]
  },
  {
   "cell_type": "code",
   "execution_count": null,
   "metadata": {
    "execution": {
     "iopub.execute_input": "2021-08-31T04:45:13.031298Z",
     "iopub.status.busy": "2021-08-31T04:45:13.030964Z",
     "iopub.status.idle": "2021-08-31T04:45:13.04089Z",
     "shell.execute_reply": "2021-08-31T04:45:13.039772Z",
     "shell.execute_reply.started": "2021-08-31T04:45:13.031264Z"
    },
    "id": "h2Dh_cUB3sKq"
   },
   "outputs": [],
   "source": [
    "coltransformer = ColumnTransformer([\n",
    "                                    ('num_impute',SimpleImputer(strategy='median'),['Age', 'SibSp', 'Parch', 'FamilySize']),\n",
    "                                    ('num_impute2',SimpleImputer(strategy='mean'),['Fare']),\n",
    "                                    ('cat_impute',sub_pipe1,['Sex', 'Embarked', 'Pclass', 'Title'])\n",
    "],remainder='passthrough')"
   ]
  },
  {
   "cell_type": "code",
   "execution_count": null,
   "metadata": {
    "execution": {
     "iopub.execute_input": "2021-08-31T04:45:13.042945Z",
     "iopub.status.busy": "2021-08-31T04:45:13.042497Z",
     "iopub.status.idle": "2021-08-31T04:45:13.057762Z",
     "shell.execute_reply": "2021-08-31T04:45:13.056629Z",
     "shell.execute_reply.started": "2021-08-31T04:45:13.042895Z"
    },
    "id": "scniLdb75nvw"
   },
   "outputs": [],
   "source": [
    "pipe = Pipeline([\n",
    "                 ('feat_engg',FeatureEngineering()),\n",
    "                 ('substage_feat_engg',TransformationSubStage()),\n",
    "                 ('coltransformer',coltransformer),\n",
    "                 ('substage_coltransformer',TransformationSubStage()),\n",
    "                 ('num',StandardScaler()),\n",
    "])"
   ]
  },
  {
   "cell_type": "code",
   "execution_count": null,
   "metadata": {
    "execution": {
     "iopub.execute_input": "2021-08-31T04:45:13.059581Z",
     "iopub.status.busy": "2021-08-31T04:45:13.059117Z",
     "iopub.status.idle": "2021-08-31T04:45:13.452388Z",
     "shell.execute_reply": "2021-08-31T04:45:13.451123Z",
     "shell.execute_reply.started": "2021-08-31T04:45:13.059406Z"
    },
    "id": "JFrYKijq9YE2"
   },
   "outputs": [],
   "source": [
    "X_train,y_train = clean_data(train_original)\n",
    "X_train = pipe.fit_transform(X_train)"
   ]
  },
  {
   "cell_type": "code",
   "execution_count": null,
   "metadata": {
    "colab": {
     "base_uri": "https://localhost:8080/"
    },
    "execution": {
     "iopub.execute_input": "2021-08-31T04:45:13.453954Z",
     "iopub.status.busy": "2021-08-31T04:45:13.453653Z",
     "iopub.status.idle": "2021-08-31T04:45:13.460794Z",
     "shell.execute_reply": "2021-08-31T04:45:13.459647Z",
     "shell.execute_reply.started": "2021-08-31T04:45:13.453921Z"
    },
    "id": "rrbwRhmQnR-v",
    "outputId": "a67a331b-9433-4e4c-e0f5-788766f44c1f"
   },
   "outputs": [],
   "source": [
    "X_train.shape"
   ]
  },
  {
   "cell_type": "code",
   "execution_count": null,
   "metadata": {
    "execution": {
     "iopub.execute_input": "2021-08-31T04:45:13.463085Z",
     "iopub.status.busy": "2021-08-31T04:45:13.462658Z",
     "iopub.status.idle": "2021-08-31T04:45:13.663665Z",
     "shell.execute_reply": "2021-08-31T04:45:13.662582Z",
     "shell.execute_reply.started": "2021-08-31T04:45:13.463035Z"
    },
    "id": "kMTOwV0vMmYz"
   },
   "outputs": [],
   "source": [
    "X_test,y_test = clean_data(test_set)\n",
    "X_test = pipe.transform(X_test)"
   ]
  },
  {
   "cell_type": "code",
   "execution_count": null,
   "metadata": {
    "execution": {
     "iopub.execute_input": "2021-08-31T04:45:13.665863Z",
     "iopub.status.busy": "2021-08-31T04:45:13.66541Z",
     "iopub.status.idle": "2021-08-31T04:45:13.732894Z",
     "shell.execute_reply": "2021-08-31T04:45:13.731864Z",
     "shell.execute_reply.started": "2021-08-31T04:45:13.665813Z"
    },
    "id": "jI40FnCEWzTM"
   },
   "outputs": [],
   "source": [
    "from sklearn.linear_model import LogisticRegression,LogisticRegressionCV\n",
    "from sklearn.svm import SVC,LinearSVC\n",
    "from sklearn.tree import DecisionTreeClassifier\n",
    "from sklearn.ensemble import RandomForestClassifier,VotingClassifier,AdaBoostClassifier,GradientBoostingClassifier\n",
    "from sklearn.neighbors import KNeighborsClassifier\n",
    "from sklearn.naive_bayes import GaussianNB"
   ]
  },
  {
   "cell_type": "code",
   "execution_count": null,
   "metadata": {
    "execution": {
     "iopub.execute_input": "2021-08-31T04:45:13.734658Z",
     "iopub.status.busy": "2021-08-31T04:45:13.734337Z",
     "iopub.status.idle": "2021-08-31T04:45:13.740339Z",
     "shell.execute_reply": "2021-08-31T04:45:13.739537Z",
     "shell.execute_reply.started": "2021-08-31T04:45:13.734626Z"
    },
    "id": "51iX4lkxHIbL"
   },
   "outputs": [],
   "source": [
    "from sklearn.metrics import accuracy_score"
   ]
  },
  {
   "cell_type": "code",
   "execution_count": null,
   "metadata": {
    "execution": {
     "iopub.execute_input": "2021-08-31T04:45:13.7422Z",
     "iopub.status.busy": "2021-08-31T04:45:13.741938Z",
     "iopub.status.idle": "2021-08-31T04:45:13.752255Z",
     "shell.execute_reply": "2021-08-31T04:45:13.751154Z",
     "shell.execute_reply.started": "2021-08-31T04:45:13.742173Z"
    },
    "id": "sEF5sO_Acirj"
   },
   "outputs": [],
   "source": [
    "from sklearn.model_selection import cross_val_score,GridSearchCV,RandomizedSearchCV"
   ]
  },
  {
   "cell_type": "code",
   "execution_count": null,
   "metadata": {
    "execution": {
     "iopub.execute_input": "2021-08-31T04:45:13.754625Z",
     "iopub.status.busy": "2021-08-31T04:45:13.754161Z",
     "iopub.status.idle": "2021-08-31T04:45:13.764371Z",
     "shell.execute_reply": "2021-08-31T04:45:13.763519Z",
     "shell.execute_reply.started": "2021-08-31T04:45:13.754586Z"
    },
    "id": "iTtvbXJKGgUw"
   },
   "outputs": [],
   "source": [
    "models = {}"
   ]
  },
  {
   "cell_type": "code",
   "execution_count": null,
   "metadata": {
    "id": "AS5hfp5HhAyp"
   },
   "outputs": [],
   "source": []
  },
  {
   "cell_type": "markdown",
   "metadata": {
    "id": "0jjiPrD9jyU4"
   },
   "source": [
    "# ML Modeling"
   ]
  },
  {
   "cell_type": "markdown",
   "metadata": {
    "id": "1UJMZrMyfVjK"
   },
   "source": [
    "### Logistic Regression"
   ]
  },
  {
   "cell_type": "code",
   "execution_count": null,
   "metadata": {
    "colab": {
     "base_uri": "https://localhost:8080/"
    },
    "execution": {
     "iopub.execute_input": "2021-08-31T04:45:13.766605Z",
     "iopub.status.busy": "2021-08-31T04:45:13.765982Z",
     "iopub.status.idle": "2021-08-31T04:45:26.94788Z",
     "shell.execute_reply": "2021-08-31T04:45:26.940421Z",
     "shell.execute_reply.started": "2021-08-31T04:45:13.766552Z"
    },
    "id": "FfL18LOJvvO4",
    "outputId": "e452dd65-eb19-48f3-958b-1428b2f3110b"
   },
   "outputs": [],
   "source": [
    "logreg_gridSearch = LogisticRegressionCV(solver='saga',penalty='elasticnet',Cs=[0.1,0.2,0.5,1,10,15,20,25,50,100,100],l1_ratios=[0,0.35,0.5,0.65,1],n_jobs=-1,cv=3,random_state=0)\n",
    "logreg_gridSearch.fit(X_train,y_train)"
   ]
  },
  {
   "cell_type": "code",
   "execution_count": null,
   "metadata": {
    "colab": {
     "base_uri": "https://localhost:8080/"
    },
    "execution": {
     "iopub.execute_input": "2021-08-31T04:45:26.950678Z",
     "iopub.status.busy": "2021-08-31T04:45:26.949916Z",
     "iopub.status.idle": "2021-08-31T04:45:27.268759Z",
     "shell.execute_reply": "2021-08-31T04:45:27.267465Z",
     "shell.execute_reply.started": "2021-08-31T04:45:26.950625Z"
    },
    "id": "NPCcAppaVBn0",
    "outputId": "a9ad8127-674e-4c90-8b8b-4905ddd88f4d"
   },
   "outputs": [],
   "source": [
    "logreg = LogisticRegression(solver='saga',penalty='elasticnet',C=logreg_gridSearch.C_[0],l1_ratio=logreg_gridSearch.l1_ratio_[0],n_jobs=-1,random_state=0)\n",
    "logreg.fit(X_train,y_train)"
   ]
  },
  {
   "cell_type": "code",
   "execution_count": null,
   "metadata": {
    "colab": {
     "base_uri": "https://localhost:8080/"
    },
    "execution": {
     "iopub.execute_input": "2021-08-31T04:45:27.271375Z",
     "iopub.status.busy": "2021-08-31T04:45:27.270647Z",
     "iopub.status.idle": "2021-08-31T04:45:27.291145Z",
     "shell.execute_reply": "2021-08-31T04:45:27.284386Z",
     "shell.execute_reply.started": "2021-08-31T04:45:27.271304Z"
    },
    "id": "bmVdSwXsGz-S",
    "outputId": "acc3580e-e1bd-44b2-af4b-87d1f56155cb"
   },
   "outputs": [],
   "source": [
    "accuracy = accuracy_score(y_test,logreg.predict(X_test))\n",
    "accuracy"
   ]
  },
  {
   "cell_type": "code",
   "execution_count": null,
   "metadata": {
    "execution": {
     "iopub.execute_input": "2021-08-31T04:45:27.293653Z",
     "iopub.status.busy": "2021-08-31T04:45:27.293157Z",
     "iopub.status.idle": "2021-08-31T04:45:27.300065Z",
     "shell.execute_reply": "2021-08-31T04:45:27.29872Z",
     "shell.execute_reply.started": "2021-08-31T04:45:27.2936Z"
    },
    "id": "DTa1Z5urHmTw"
   },
   "outputs": [],
   "source": [
    "models['Logistic Regression'] = accuracy"
   ]
  },
  {
   "cell_type": "code",
   "execution_count": null,
   "metadata": {
    "id": "2BgB9g7iIVig"
   },
   "outputs": [],
   "source": []
  },
  {
   "cell_type": "markdown",
   "metadata": {
    "id": "GBQQz_vUfdHu"
   },
   "source": [
    "### Linear SVC"
   ]
  },
  {
   "cell_type": "code",
   "execution_count": null,
   "metadata": {
    "execution": {
     "iopub.execute_input": "2021-08-31T04:45:27.302567Z",
     "iopub.status.busy": "2021-08-31T04:45:27.30185Z",
     "iopub.status.idle": "2021-08-31T04:45:27.311647Z",
     "shell.execute_reply": "2021-08-31T04:45:27.310359Z",
     "shell.execute_reply.started": "2021-08-31T04:45:27.302507Z"
    },
    "id": "XGz6Ky0mAgxr"
   },
   "outputs": [],
   "source": [
    "params ={'C':[0.01,0.1,1,2,5,10,20,50,100,1000],\n",
    "         'penalty':['l1','l2']}\n",
    "lin_svc = GridSearchCV(LinearSVC(random_state=0),params)"
   ]
  },
  {
   "cell_type": "code",
   "execution_count": null,
   "metadata": {
    "colab": {
     "base_uri": "https://localhost:8080/"
    },
    "execution": {
     "iopub.execute_input": "2021-08-31T04:45:27.313948Z",
     "iopub.status.busy": "2021-08-31T04:45:27.313211Z",
     "iopub.status.idle": "2021-08-31T04:45:41.904545Z",
     "shell.execute_reply": "2021-08-31T04:45:41.903462Z",
     "shell.execute_reply.started": "2021-08-31T04:45:27.313898Z"
    },
    "id": "DgpI8qcnAH2q",
    "outputId": "ebde3a17-ab73-42f4-d121-1512c2ec9ec2"
   },
   "outputs": [],
   "source": [
    "lin_svc.fit(X_train,y_train)\n",
    "lin_svc.best_params_"
   ]
  },
  {
   "cell_type": "code",
   "execution_count": null,
   "metadata": {
    "execution": {
     "iopub.execute_input": "2021-08-31T04:45:41.906553Z",
     "iopub.status.busy": "2021-08-31T04:45:41.906136Z",
     "iopub.status.idle": "2021-08-31T04:45:41.910902Z",
     "shell.execute_reply": "2021-08-31T04:45:41.910213Z",
     "shell.execute_reply.started": "2021-08-31T04:45:41.906508Z"
    },
    "id": "EmPHRHDq2NN1"
   },
   "outputs": [],
   "source": [
    "lin_svc = lin_svc.best_estimator_"
   ]
  },
  {
   "cell_type": "code",
   "execution_count": null,
   "metadata": {
    "colab": {
     "base_uri": "https://localhost:8080/"
    },
    "execution": {
     "iopub.execute_input": "2021-08-31T04:45:41.912254Z",
     "iopub.status.busy": "2021-08-31T04:45:41.911892Z",
     "iopub.status.idle": "2021-08-31T04:45:41.930073Z",
     "shell.execute_reply": "2021-08-31T04:45:41.928984Z",
     "shell.execute_reply.started": "2021-08-31T04:45:41.912226Z"
    },
    "id": "mHc3pfZ8A8kD",
    "outputId": "a4917ac9-bc74-44fd-cd8a-650d68c38ada"
   },
   "outputs": [],
   "source": [
    "accuracy = accuracy_score(y_test,lin_svc.predict(X_test))\n",
    "accuracy"
   ]
  },
  {
   "cell_type": "code",
   "execution_count": null,
   "metadata": {
    "execution": {
     "iopub.execute_input": "2021-08-31T04:45:41.932333Z",
     "iopub.status.busy": "2021-08-31T04:45:41.931726Z",
     "iopub.status.idle": "2021-08-31T04:45:41.938629Z",
     "shell.execute_reply": "2021-08-31T04:45:41.937453Z",
     "shell.execute_reply.started": "2021-08-31T04:45:41.932295Z"
    },
    "id": "HFAlEKbIBKSM"
   },
   "outputs": [],
   "source": [
    "models['Linear SVC'] = accuracy"
   ]
  },
  {
   "cell_type": "code",
   "execution_count": null,
   "metadata": {
    "id": "rmr_JPx5BPdh"
   },
   "outputs": [],
   "source": []
  },
  {
   "cell_type": "markdown",
   "metadata": {
    "id": "e7sXyx2vfjOK"
   },
   "source": [
    "### SVC"
   ]
  },
  {
   "cell_type": "code",
   "execution_count": null,
   "metadata": {
    "execution": {
     "iopub.execute_input": "2021-08-31T04:45:41.940674Z",
     "iopub.status.busy": "2021-08-31T04:45:41.940239Z",
     "iopub.status.idle": "2021-08-31T04:45:41.950965Z",
     "shell.execute_reply": "2021-08-31T04:45:41.949813Z",
     "shell.execute_reply.started": "2021-08-31T04:45:41.94063Z"
    },
    "id": "iEFu4yGM5l3W"
   },
   "outputs": [],
   "source": [
    "params ={'C':[0.01,0.1,1,2,5,10,20,50,100,1000],\n",
    "         'kernel':['rbf','sigmoid']}\n",
    "svc = GridSearchCV(SVC(random_state =0,probability=True),params)"
   ]
  },
  {
   "cell_type": "code",
   "execution_count": null,
   "metadata": {
    "colab": {
     "base_uri": "https://localhost:8080/"
    },
    "execution": {
     "iopub.execute_input": "2021-08-31T04:45:41.953236Z",
     "iopub.status.busy": "2021-08-31T04:45:41.952595Z",
     "iopub.status.idle": "2021-08-31T04:46:25.913679Z",
     "shell.execute_reply": "2021-08-31T04:46:25.912877Z",
     "shell.execute_reply.started": "2021-08-31T04:45:41.953188Z"
    },
    "id": "gkpdl94l6LFW",
    "outputId": "7b6e54c3-467c-4252-cbe2-ab7b1acfcffe"
   },
   "outputs": [],
   "source": [
    "svc.fit(X_train,y_train)"
   ]
  },
  {
   "cell_type": "code",
   "execution_count": null,
   "metadata": {
    "colab": {
     "base_uri": "https://localhost:8080/"
    },
    "execution": {
     "iopub.execute_input": "2021-08-31T04:46:25.915688Z",
     "iopub.status.busy": "2021-08-31T04:46:25.915262Z",
     "iopub.status.idle": "2021-08-31T04:46:25.922012Z",
     "shell.execute_reply": "2021-08-31T04:46:25.920827Z",
     "shell.execute_reply.started": "2021-08-31T04:46:25.915642Z"
    },
    "id": "I8KnNMjm8Rji",
    "outputId": "5d4c7fc3-38c8-4330-dc95-ef7bb16fb324"
   },
   "outputs": [],
   "source": [
    "svc.best_params_"
   ]
  },
  {
   "cell_type": "code",
   "execution_count": null,
   "metadata": {
    "execution": {
     "iopub.execute_input": "2021-08-31T04:46:25.923498Z",
     "iopub.status.busy": "2021-08-31T04:46:25.923213Z",
     "iopub.status.idle": "2021-08-31T04:46:25.936138Z",
     "shell.execute_reply": "2021-08-31T04:46:25.935212Z",
     "shell.execute_reply.started": "2021-08-31T04:46:25.923463Z"
    },
    "id": "0l-k7-3w2aZJ"
   },
   "outputs": [],
   "source": [
    "svc = svc.best_estimator_"
   ]
  },
  {
   "cell_type": "code",
   "execution_count": null,
   "metadata": {
    "colab": {
     "base_uri": "https://localhost:8080/"
    },
    "execution": {
     "iopub.execute_input": "2021-08-31T04:46:25.93818Z",
     "iopub.status.busy": "2021-08-31T04:46:25.937728Z",
     "iopub.status.idle": "2021-08-31T04:46:25.973537Z",
     "shell.execute_reply": "2021-08-31T04:46:25.972589Z",
     "shell.execute_reply.started": "2021-08-31T04:46:25.938131Z"
    },
    "id": "L8w_O6iw9e3m",
    "outputId": "724ca34f-18c5-43c9-d6cd-163a293c2458"
   },
   "outputs": [],
   "source": [
    "accuracy = accuracy_score(y_test,svc.predict(X_test))\n",
    "accuracy"
   ]
  },
  {
   "cell_type": "code",
   "execution_count": null,
   "metadata": {
    "execution": {
     "iopub.execute_input": "2021-08-31T04:46:25.974995Z",
     "iopub.status.busy": "2021-08-31T04:46:25.974723Z",
     "iopub.status.idle": "2021-08-31T04:46:25.97907Z",
     "shell.execute_reply": "2021-08-31T04:46:25.977968Z",
     "shell.execute_reply.started": "2021-08-31T04:46:25.974968Z"
    },
    "id": "8Jifr6gn9uXU"
   },
   "outputs": [],
   "source": [
    "models['SVC'] = accuracy"
   ]
  },
  {
   "cell_type": "code",
   "execution_count": null,
   "metadata": {
    "id": "oSI_uH_vBXZy"
   },
   "outputs": [],
   "source": []
  },
  {
   "cell_type": "markdown",
   "metadata": {
    "id": "cajbzRbwfmtl"
   },
   "source": [
    "### Decision Tree Classifier"
   ]
  },
  {
   "cell_type": "code",
   "execution_count": null,
   "metadata": {
    "colab": {
     "base_uri": "https://localhost:8080/"
    },
    "execution": {
     "iopub.execute_input": "2021-08-31T04:46:25.980668Z",
     "iopub.status.busy": "2021-08-31T04:46:25.980319Z",
     "iopub.status.idle": "2021-08-31T04:46:26.007292Z",
     "shell.execute_reply": "2021-08-31T04:46:26.006156Z",
     "shell.execute_reply.started": "2021-08-31T04:46:25.980628Z"
    },
    "id": "jMd-yt13FkmK",
    "outputId": "aa67a87c-be9f-4892-8fa9-a1fe4d5bd9db"
   },
   "outputs": [],
   "source": [
    "dt_clf = DecisionTreeClassifier(random_state =0)\n",
    "dt_clf.fit(X_train,y_train)"
   ]
  },
  {
   "cell_type": "code",
   "execution_count": null,
   "metadata": {
    "colab": {
     "base_uri": "https://localhost:8080/"
    },
    "execution": {
     "iopub.execute_input": "2021-08-31T04:46:26.008978Z",
     "iopub.status.busy": "2021-08-31T04:46:26.008689Z",
     "iopub.status.idle": "2021-08-31T04:46:26.016387Z",
     "shell.execute_reply": "2021-08-31T04:46:26.015287Z",
     "shell.execute_reply.started": "2021-08-31T04:46:26.00895Z"
    },
    "id": "g5anXpPjFkgf",
    "outputId": "42bca1bc-132f-426b-cff7-6fa60ffd850a"
   },
   "outputs": [],
   "source": [
    "accuracy = accuracy_score(y_test,dt_clf.predict(X_test))\n",
    "accuracy"
   ]
  },
  {
   "cell_type": "code",
   "execution_count": null,
   "metadata": {
    "execution": {
     "iopub.execute_input": "2021-08-31T04:46:26.018832Z",
     "iopub.status.busy": "2021-08-31T04:46:26.018323Z",
     "iopub.status.idle": "2021-08-31T04:46:26.030892Z",
     "shell.execute_reply": "2021-08-31T04:46:26.02957Z",
     "shell.execute_reply.started": "2021-08-31T04:46:26.018782Z"
    },
    "id": "ZlMMpvYQFkdm"
   },
   "outputs": [],
   "source": [
    "models['Decision Tree'] = accuracy"
   ]
  },
  {
   "cell_type": "markdown",
   "metadata": {
    "id": "aXkM3hQIfvRK"
   },
   "source": [
    "### Random Forest Classifier (Ensemble)"
   ]
  },
  {
   "cell_type": "code",
   "execution_count": null,
   "metadata": {
    "colab": {
     "base_uri": "https://localhost:8080/"
    },
    "execution": {
     "iopub.execute_input": "2021-08-31T04:46:26.033565Z",
     "iopub.status.busy": "2021-08-31T04:46:26.032912Z",
     "iopub.status.idle": "2021-08-31T04:46:33.939273Z",
     "shell.execute_reply": "2021-08-31T04:46:33.937996Z",
     "shell.execute_reply.started": "2021-08-31T04:46:26.033507Z"
    },
    "id": "gKag9kk7Yj0A",
    "outputId": "bf15fde9-1997-4d28-f699-d5d4c7848565"
   },
   "outputs": [],
   "source": [
    "!pip install -q optuna"
   ]
  },
  {
   "cell_type": "code",
   "execution_count": null,
   "metadata": {
    "execution": {
     "iopub.execute_input": "2021-08-31T04:46:33.9437Z",
     "iopub.status.busy": "2021-08-31T04:46:33.943349Z",
     "iopub.status.idle": "2021-08-31T04:46:34.671477Z",
     "shell.execute_reply": "2021-08-31T04:46:34.670679Z",
     "shell.execute_reply.started": "2021-08-31T04:46:33.943663Z"
    },
    "id": "FH3yiOuEZKee"
   },
   "outputs": [],
   "source": [
    "import optuna"
   ]
  },
  {
   "cell_type": "code",
   "execution_count": null,
   "metadata": {
    "execution": {
     "iopub.execute_input": "2021-08-31T04:46:34.673165Z",
     "iopub.status.busy": "2021-08-31T04:46:34.672709Z",
     "iopub.status.idle": "2021-08-31T04:46:34.67962Z",
     "shell.execute_reply": "2021-08-31T04:46:34.678399Z",
     "shell.execute_reply.started": "2021-08-31T04:46:34.673134Z"
    },
    "id": "yt8Bo4__Ze_c"
   },
   "outputs": [],
   "source": [
    "def objective(trial):\n",
    "\n",
    "  max_features=trial.suggest_float('max_features',0.3,1,step=0.05)\n",
    "  max_samples=trial.suggest_float('max_samples',0.3,0.95,step=0.05)\n",
    "  min_samples_split=trial.suggest_float('min_samples_split',0.01,0.11,step=0.01)\n",
    "  class_weight=trial.suggest_categorical('class_weight',['balanced', 'balanced_subsample',None])\n",
    "\n",
    "  clf = RandomForestClassifier(max_features=max_features, max_samples=max_samples, min_samples_split=min_samples_split,class_weight=class_weight,random_state =0)\n",
    "\n",
    "  return cross_val_score(clf,X_train,y_train,cv=3,n_jobs=-1,scoring='accuracy').mean()"
   ]
  },
  {
   "cell_type": "code",
   "execution_count": null,
   "metadata": {
    "colab": {
     "base_uri": "https://localhost:8080/"
    },
    "execution": {
     "iopub.execute_input": "2021-08-31T04:46:34.68128Z",
     "iopub.status.busy": "2021-08-31T04:46:34.680996Z",
     "iopub.status.idle": "2021-08-31T04:47:04.426099Z",
     "shell.execute_reply": "2021-08-31T04:47:04.424948Z",
     "shell.execute_reply.started": "2021-08-31T04:46:34.68125Z"
    },
    "id": "9DjPKPWJcuEi",
    "outputId": "f90be213-5d68-4fd8-e689-ec100b05947d",
    "scrolled": true
   },
   "outputs": [],
   "source": [
    "study = optuna.create_study(direction='maximize')\n",
    "study.optimize(objective,n_trials=50)"
   ]
  },
  {
   "cell_type": "code",
   "execution_count": null,
   "metadata": {
    "colab": {
     "base_uri": "https://localhost:8080/"
    },
    "execution": {
     "iopub.execute_input": "2021-08-31T04:47:04.428475Z",
     "iopub.status.busy": "2021-08-31T04:47:04.427993Z",
     "iopub.status.idle": "2021-08-31T04:47:04.440029Z",
     "shell.execute_reply": "2021-08-31T04:47:04.43885Z",
     "shell.execute_reply.started": "2021-08-31T04:47:04.428402Z"
    },
    "id": "OHjGZxtRdJfg",
    "outputId": "964f12a7-e414-423c-8cda-281bcf063bf5"
   },
   "outputs": [],
   "source": [
    "best_trial = study.best_trial\n",
    "print(\"Accuracy : \",best_trial.value)\n",
    "best_trial.params"
   ]
  },
  {
   "cell_type": "code",
   "execution_count": null,
   "metadata": {
    "colab": {
     "base_uri": "https://localhost:8080/"
    },
    "execution": {
     "iopub.execute_input": "2021-08-31T04:47:04.442291Z",
     "iopub.status.busy": "2021-08-31T04:47:04.441672Z",
     "iopub.status.idle": "2021-08-31T04:47:04.934422Z",
     "shell.execute_reply": "2021-08-31T04:47:04.933187Z",
     "shell.execute_reply.started": "2021-08-31T04:47:04.442237Z"
    },
    "id": "01UUCZRCA5_Y",
    "outputId": "e759fd90-041b-4253-97f9-e893cb605b3f"
   },
   "outputs": [],
   "source": [
    "rf_clf = RandomForestClassifier(**best_trial.params,random_state =0)\n",
    "rf_clf.fit(X_train,y_train)"
   ]
  },
  {
   "cell_type": "code",
   "execution_count": null,
   "metadata": {
    "colab": {
     "base_uri": "https://localhost:8080/"
    },
    "execution": {
     "iopub.execute_input": "2021-08-31T04:47:04.935958Z",
     "iopub.status.busy": "2021-08-31T04:47:04.935687Z",
     "iopub.status.idle": "2021-08-31T04:47:04.955538Z",
     "shell.execute_reply": "2021-08-31T04:47:04.954502Z",
     "shell.execute_reply.started": "2021-08-31T04:47:04.93593Z"
    },
    "id": "xp7jTVr5og23",
    "outputId": "b205f356-10ad-4024-bf4e-e785dbc15424"
   },
   "outputs": [],
   "source": [
    "accuracy = accuracy_score(y_test,rf_clf.predict(X_test))\n",
    "accuracy"
   ]
  },
  {
   "cell_type": "code",
   "execution_count": null,
   "metadata": {
    "execution": {
     "iopub.execute_input": "2021-08-31T04:47:04.95752Z",
     "iopub.status.busy": "2021-08-31T04:47:04.957094Z",
     "iopub.status.idle": "2021-08-31T04:47:04.961941Z",
     "shell.execute_reply": "2021-08-31T04:47:04.960944Z",
     "shell.execute_reply.started": "2021-08-31T04:47:04.957475Z"
    },
    "id": "XNjnnAa7ojkL"
   },
   "outputs": [],
   "source": [
    "models['Random Forest'] = accuracy"
   ]
  },
  {
   "cell_type": "code",
   "execution_count": null,
   "metadata": {
    "id": "8rx-pw6bDQfy"
   },
   "outputs": [],
   "source": []
  },
  {
   "cell_type": "code",
   "execution_count": null,
   "metadata": {
    "id": "hS_q1Yctydzb"
   },
   "outputs": [],
   "source": []
  },
  {
   "cell_type": "markdown",
   "metadata": {
    "id": "NaAeeqVef-FQ"
   },
   "source": [
    "### K-Nearest Neighbor Classifier"
   ]
  },
  {
   "cell_type": "code",
   "execution_count": null,
   "metadata": {
    "execution": {
     "iopub.execute_input": "2021-08-31T04:47:04.963542Z",
     "iopub.status.busy": "2021-08-31T04:47:04.963253Z",
     "iopub.status.idle": "2021-08-31T04:47:04.976428Z",
     "shell.execute_reply": "2021-08-31T04:47:04.975342Z",
     "shell.execute_reply.started": "2021-08-31T04:47:04.963512Z"
    },
    "id": "l295lqZC-o1i"
   },
   "outputs": [],
   "source": [
    "params = {'n_neighbors' : [2,3,4,5,6,7,8,9,10]}\n",
    "knn_clf = GridSearchCV(KNeighborsClassifier(), params)"
   ]
  },
  {
   "cell_type": "code",
   "execution_count": null,
   "metadata": {
    "colab": {
     "base_uri": "https://localhost:8080/"
    },
    "execution": {
     "iopub.execute_input": "2021-08-31T04:47:04.978291Z",
     "iopub.status.busy": "2021-08-31T04:47:04.978005Z",
     "iopub.status.idle": "2021-08-31T04:47:07.237221Z",
     "shell.execute_reply": "2021-08-31T04:47:07.236228Z",
     "shell.execute_reply.started": "2021-08-31T04:47:04.97826Z"
    },
    "id": "kLiu1_cEDBA8",
    "outputId": "3db7c69d-9f72-4e90-cbfa-57bd5810687d"
   },
   "outputs": [],
   "source": [
    "knn_clf.fit(X_train,y_train)"
   ]
  },
  {
   "cell_type": "code",
   "execution_count": null,
   "metadata": {
    "colab": {
     "base_uri": "https://localhost:8080/"
    },
    "execution": {
     "iopub.execute_input": "2021-08-31T04:47:07.239024Z",
     "iopub.status.busy": "2021-08-31T04:47:07.238701Z",
     "iopub.status.idle": "2021-08-31T04:47:07.245102Z",
     "shell.execute_reply": "2021-08-31T04:47:07.24408Z",
     "shell.execute_reply.started": "2021-08-31T04:47:07.23899Z"
    },
    "id": "Kj7xsc52Dfwb",
    "outputId": "fb551df8-422c-4c97-bc3d-ff7fd0fb43c2"
   },
   "outputs": [],
   "source": [
    "knn_clf.best_params_"
   ]
  },
  {
   "cell_type": "code",
   "execution_count": null,
   "metadata": {
    "colab": {
     "base_uri": "https://localhost:8080/"
    },
    "execution": {
     "iopub.execute_input": "2021-08-31T04:47:07.246933Z",
     "iopub.status.busy": "2021-08-31T04:47:07.246624Z",
     "iopub.status.idle": "2021-08-31T04:47:07.316544Z",
     "shell.execute_reply": "2021-08-31T04:47:07.315532Z",
     "shell.execute_reply.started": "2021-08-31T04:47:07.2469Z"
    },
    "id": "p3rBcgSAFdwH",
    "outputId": "fc9e0072-c41b-4fc1-dc1d-99586c5550a9"
   },
   "outputs": [],
   "source": [
    "accuracy = accuracy_score(y_test,knn_clf.predict(X_test))\n",
    "accuracy"
   ]
  },
  {
   "cell_type": "code",
   "execution_count": null,
   "metadata": {
    "execution": {
     "iopub.execute_input": "2021-08-31T04:47:07.318029Z",
     "iopub.status.busy": "2021-08-31T04:47:07.317767Z",
     "iopub.status.idle": "2021-08-31T04:47:07.322652Z",
     "shell.execute_reply": "2021-08-31T04:47:07.321599Z",
     "shell.execute_reply.started": "2021-08-31T04:47:07.318001Z"
    },
    "id": "hV1Rg1rNDTyG"
   },
   "outputs": [],
   "source": [
    "models['K-Nearest Neighbor'] = accuracy"
   ]
  },
  {
   "cell_type": "code",
   "execution_count": null,
   "metadata": {
    "id": "rKOY6W8aDUr8"
   },
   "outputs": [],
   "source": []
  },
  {
   "cell_type": "markdown",
   "metadata": {
    "id": "bCP0CFv7gI7k"
   },
   "source": [
    "### Gaussian Naive Bayes Classifier"
   ]
  },
  {
   "cell_type": "code",
   "execution_count": null,
   "metadata": {
    "execution": {
     "iopub.execute_input": "2021-08-31T04:47:07.324162Z",
     "iopub.status.busy": "2021-08-31T04:47:07.32382Z",
     "iopub.status.idle": "2021-08-31T04:47:07.335427Z",
     "shell.execute_reply": "2021-08-31T04:47:07.334455Z",
     "shell.execute_reply.started": "2021-08-31T04:47:07.324133Z"
    },
    "id": "Oo6wJljTDsgT"
   },
   "outputs": [],
   "source": [
    "params = {'var_smoothing': np.logspace(0,-9, num=100)}\n",
    "nb_clf = GridSearchCV(GaussianNB(), params)"
   ]
  },
  {
   "cell_type": "code",
   "execution_count": null,
   "metadata": {
    "colab": {
     "base_uri": "https://localhost:8080/"
    },
    "execution": {
     "iopub.execute_input": "2021-08-31T04:47:07.337795Z",
     "iopub.status.busy": "2021-08-31T04:47:07.337334Z",
     "iopub.status.idle": "2021-08-31T04:47:09.158077Z",
     "shell.execute_reply": "2021-08-31T04:47:09.15701Z",
     "shell.execute_reply.started": "2021-08-31T04:47:07.337747Z"
    },
    "id": "4GmVKaOmE28S",
    "outputId": "f6a63668-987f-4404-8a12-c9c6b1cea9b9"
   },
   "outputs": [],
   "source": [
    "nb_clf.fit(X_train,y_train)"
   ]
  },
  {
   "cell_type": "code",
   "execution_count": null,
   "metadata": {
    "colab": {
     "base_uri": "https://localhost:8080/"
    },
    "execution": {
     "iopub.execute_input": "2021-08-31T04:47:09.160094Z",
     "iopub.status.busy": "2021-08-31T04:47:09.159684Z",
     "iopub.status.idle": "2021-08-31T04:47:09.166198Z",
     "shell.execute_reply": "2021-08-31T04:47:09.165214Z",
     "shell.execute_reply.started": "2021-08-31T04:47:09.160047Z"
    },
    "id": "snBQHzNTEyrD",
    "outputId": "65e34cd1-d283-4f45-c20b-5e189eca6ca9"
   },
   "outputs": [],
   "source": [
    "nb_clf.best_params_"
   ]
  },
  {
   "cell_type": "code",
   "execution_count": null,
   "metadata": {
    "colab": {
     "base_uri": "https://localhost:8080/"
    },
    "execution": {
     "iopub.execute_input": "2021-08-31T04:47:09.168374Z",
     "iopub.status.busy": "2021-08-31T04:47:09.167769Z",
     "iopub.status.idle": "2021-08-31T04:47:09.186623Z",
     "shell.execute_reply": "2021-08-31T04:47:09.18548Z",
     "shell.execute_reply.started": "2021-08-31T04:47:09.16833Z"
    },
    "id": "HEjzksmgFFT6",
    "outputId": "6130d5f4-0f41-4a94-b6b6-e181862fd9e6"
   },
   "outputs": [],
   "source": [
    "accuracy = accuracy_score(y_test,nb_clf.predict(X_test))\n",
    "accuracy"
   ]
  },
  {
   "cell_type": "code",
   "execution_count": null,
   "metadata": {
    "execution": {
     "iopub.execute_input": "2021-08-31T04:47:09.188609Z",
     "iopub.status.busy": "2021-08-31T04:47:09.188215Z",
     "iopub.status.idle": "2021-08-31T04:47:09.197196Z",
     "shell.execute_reply": "2021-08-31T04:47:09.196079Z",
     "shell.execute_reply.started": "2021-08-31T04:47:09.188565Z"
    },
    "id": "TtB3t5MOFpHJ"
   },
   "outputs": [],
   "source": [
    "models['Gaussian Naive Bayes'] = accuracy"
   ]
  },
  {
   "cell_type": "code",
   "execution_count": null,
   "metadata": {
    "id": "aPRXTF7bHIkC"
   },
   "outputs": [],
   "source": []
  },
  {
   "cell_type": "code",
   "execution_count": null,
   "metadata": {
    "execution": {
     "iopub.execute_input": "2021-08-31T04:47:09.199188Z",
     "iopub.status.busy": "2021-08-31T04:47:09.19873Z",
     "iopub.status.idle": "2021-08-31T04:47:09.293226Z",
     "shell.execute_reply": "2021-08-31T04:47:09.292504Z",
     "shell.execute_reply.started": "2021-08-31T04:47:09.199139Z"
    },
    "id": "Wp61ATd2lVIH"
   },
   "outputs": [],
   "source": [
    "import xgboost as xgb"
   ]
  },
  {
   "cell_type": "code",
   "execution_count": null,
   "metadata": {
    "colab": {
     "base_uri": "https://localhost:8080/"
    },
    "execution": {
     "iopub.execute_input": "2021-08-31T04:47:09.294997Z",
     "iopub.status.busy": "2021-08-31T04:47:09.294491Z",
     "iopub.status.idle": "2021-08-31T04:47:10.634628Z",
     "shell.execute_reply": "2021-08-31T04:47:10.633657Z",
     "shell.execute_reply.started": "2021-08-31T04:47:09.294962Z"
    },
    "id": "9hiJL22s6e7a",
    "outputId": "824459cb-ef74-4226-b3bc-c6c0d8178f29"
   },
   "outputs": [],
   "source": [
    "cv = cross_val_score(xgb.XGBClassifier(),X_train,y_train,cv=5)\n",
    "print(cv)\n",
    "print(cv.mean())"
   ]
  },
  {
   "cell_type": "code",
   "execution_count": null,
   "metadata": {
    "colab": {
     "base_uri": "https://localhost:8080/"
    },
    "execution": {
     "iopub.execute_input": "2021-08-31T04:47:10.636001Z",
     "iopub.status.busy": "2021-08-31T04:47:10.635756Z",
     "iopub.status.idle": "2021-08-31T04:47:10.961506Z",
     "shell.execute_reply": "2021-08-31T04:47:10.96037Z",
     "shell.execute_reply.started": "2021-08-31T04:47:10.635975Z"
    },
    "id": "OTbKTsKBaQUg",
    "outputId": "0884bdd9-e16e-4d9c-da55-061f7879d4f1"
   },
   "outputs": [],
   "source": [
    "tst = xgb.XGBClassifier().fit(X_train,y_train)\n",
    "accuracy_score(y_test,tst.predict(X_test))"
   ]
  },
  {
   "cell_type": "code",
   "execution_count": null,
   "metadata": {
    "execution": {
     "iopub.execute_input": "2021-08-31T04:47:10.963133Z",
     "iopub.status.busy": "2021-08-31T04:47:10.96283Z",
     "iopub.status.idle": "2021-08-31T04:47:10.969786Z",
     "shell.execute_reply": "2021-08-31T04:47:10.968852Z",
     "shell.execute_reply.started": "2021-08-31T04:47:10.963102Z"
    },
    "id": "6AChsdOs65QY"
   },
   "outputs": [],
   "source": [
    "n_iter = []\n",
    "def objective_xgb(trial):\n",
    "\n",
    "  params = {\n",
    "      'learning_rate' : trial.suggest_loguniform('learning_rate',1e-8,0.5),\n",
    "      'max_depth' : trial.suggest_int('max_depth',8,33),\n",
    "      'subsample' : trial.suggest_float('subsample',0.5,1),\n",
    "      'colsample_bynode' : trial.suggest_float('colsample_bynode',0.5,1),\n",
    "      'lambda' : trial.suggest_loguniform(\"lambda\", 1e-8, 1.0),\n",
    "      'alpha': trial.suggest_loguniform(\"alpha\", 1e-8, 1.0),\n",
    "      'gamma' : trial.suggest_loguniform(\"gamma\", 1e-8, 1.0),\n",
    "                \n",
    "      'objective':'binary:logistic','random_state':0\n",
    "  }\n",
    "  \n",
    "  dtrain = xgb.DMatrix(X_train,y_train)\n",
    "\n",
    "\n",
    "  cv = xgb.cv(params, dtrain, num_boost_round=1000, metrics='auc', early_stopping_rounds=50)\n",
    "  n_iter.append(len(cv))\n",
    "\n",
    "  return cv.mean()['test-auc-mean']"
   ]
  },
  {
   "cell_type": "code",
   "execution_count": null,
   "metadata": {
    "_kg_hide-output": false,
    "colab": {
     "base_uri": "https://localhost:8080/"
    },
    "execution": {
     "iopub.execute_input": "2021-08-31T04:47:10.971558Z",
     "iopub.status.busy": "2021-08-31T04:47:10.971085Z",
     "iopub.status.idle": "2021-08-31T05:02:59.577115Z",
     "shell.execute_reply": "2021-08-31T05:02:59.576192Z",
     "shell.execute_reply.started": "2021-08-31T04:47:10.971518Z"
    },
    "id": "h5XsnoEK5-UY",
    "outputId": "ae3477d3-564e-4267-fccc-0531065f109a",
    "scrolled": true
   },
   "outputs": [],
   "source": [
    "study = optuna.create_study(direction='maximize')\n",
    "study.optimize(objective_xgb,n_trials=750)"
   ]
  },
  {
   "cell_type": "code",
   "execution_count": null,
   "metadata": {
    "colab": {
     "base_uri": "https://localhost:8080/"
    },
    "execution": {
     "iopub.execute_input": "2021-08-31T05:02:59.578678Z",
     "iopub.status.busy": "2021-08-31T05:02:59.578393Z",
     "iopub.status.idle": "2021-08-31T05:02:59.586345Z",
     "shell.execute_reply": "2021-08-31T05:02:59.585705Z",
     "shell.execute_reply.started": "2021-08-31T05:02:59.578648Z"
    },
    "id": "w1d60FzvLhg5",
    "outputId": "8a56bc25-0d59-4cdc-8f9b-2efff23d497d"
   },
   "outputs": [],
   "source": [
    "best_trial = study.best_trial\n",
    "print(\"Accuracy : \",best_trial.value)\n",
    "best_trial.params"
   ]
  },
  {
   "cell_type": "code",
   "execution_count": null,
   "metadata": {
    "colab": {
     "base_uri": "https://localhost:8080/"
    },
    "execution": {
     "iopub.execute_input": "2021-08-31T05:02:59.587965Z",
     "iopub.status.busy": "2021-08-31T05:02:59.587562Z",
     "iopub.status.idle": "2021-08-31T05:02:59.598541Z",
     "shell.execute_reply": "2021-08-31T05:02:59.597648Z",
     "shell.execute_reply.started": "2021-08-31T05:02:59.587935Z"
    },
    "id": "rD429RhiE9a0",
    "outputId": "9fc3708c-15b1-4b55-d876-08fbde2ae3c0"
   },
   "outputs": [],
   "source": [
    "n_iter[best_trial.number]"
   ]
  },
  {
   "cell_type": "code",
   "execution_count": null,
   "metadata": {
    "colab": {
     "base_uri": "https://localhost:8080/"
    },
    "execution": {
     "iopub.execute_input": "2021-08-31T05:02:59.600271Z",
     "iopub.status.busy": "2021-08-31T05:02:59.599797Z",
     "iopub.status.idle": "2021-08-31T05:02:59.610816Z",
     "shell.execute_reply": "2021-08-31T05:02:59.609993Z",
     "shell.execute_reply.started": "2021-08-31T05:02:59.600239Z"
    },
    "id": "0eYk_TKk8iZL",
    "outputId": "96c71633-8a3a-4228-a102-58ae64f6899f"
   },
   "outputs": [],
   "source": [
    "xgb_clf = xgb.XGBClassifier(**best_trial.params,n_estimators=n_iter[best_trial.number],random_state =0)\n",
    "xgb_clf"
   ]
  },
  {
   "cell_type": "code",
   "execution_count": null,
   "metadata": {
    "colab": {
     "base_uri": "https://localhost:8080/"
    },
    "execution": {
     "iopub.execute_input": "2021-08-31T05:02:59.612399Z",
     "iopub.status.busy": "2021-08-31T05:02:59.612007Z",
     "iopub.status.idle": "2021-08-31T05:03:00.022383Z",
     "shell.execute_reply": "2021-08-31T05:03:00.021648Z",
     "shell.execute_reply.started": "2021-08-31T05:02:59.612371Z"
    },
    "id": "-hJddsQj9YFV",
    "outputId": "9ce861a8-c57c-42fc-eb84-9cc74370f226"
   },
   "outputs": [],
   "source": [
    "xgb_clf.fit(X_train,y_train)"
   ]
  },
  {
   "cell_type": "code",
   "execution_count": null,
   "metadata": {
    "colab": {
     "base_uri": "https://localhost:8080/"
    },
    "execution": {
     "iopub.execute_input": "2021-08-31T05:03:00.0238Z",
     "iopub.status.busy": "2021-08-31T05:03:00.023383Z",
     "iopub.status.idle": "2021-08-31T05:03:00.03418Z",
     "shell.execute_reply": "2021-08-31T05:03:00.03329Z",
     "shell.execute_reply.started": "2021-08-31T05:03:00.023768Z"
    },
    "id": "PO4StA_Z-S6e",
    "outputId": "4c668bbc-d73c-4b60-9754-3f259a084bb2"
   },
   "outputs": [],
   "source": [
    "accuracy = accuracy_score(y_test,xgb_clf.predict(X_test))\n",
    "accuracy"
   ]
  },
  {
   "cell_type": "code",
   "execution_count": null,
   "metadata": {
    "execution": {
     "iopub.execute_input": "2021-08-31T05:03:00.035923Z",
     "iopub.status.busy": "2021-08-31T05:03:00.035419Z",
     "iopub.status.idle": "2021-08-31T05:03:00.040266Z",
     "shell.execute_reply": "2021-08-31T05:03:00.039186Z",
     "shell.execute_reply.started": "2021-08-31T05:03:00.035879Z"
    },
    "id": "DriTD3GFOpRp"
   },
   "outputs": [],
   "source": [
    "models['XGBoost'] = accuracy"
   ]
  },
  {
   "cell_type": "code",
   "execution_count": null,
   "metadata": {
    "colab": {
     "base_uri": "https://localhost:8080/"
    },
    "execution": {
     "iopub.execute_input": "2021-08-31T05:03:00.042206Z",
     "iopub.status.busy": "2021-08-31T05:03:00.041794Z",
     "iopub.status.idle": "2021-08-31T05:03:00.054422Z",
     "shell.execute_reply": "2021-08-31T05:03:00.053557Z",
     "shell.execute_reply.started": "2021-08-31T05:03:00.042162Z"
    },
    "id": "JZfUc3lePRQG",
    "outputId": "207d7089-1660-4ee4-b046-e1fc48da9ceb"
   },
   "outputs": [],
   "source": [
    "models"
   ]
  },
  {
   "cell_type": "code",
   "execution_count": null,
   "metadata": {
    "id": "QXMRY2pGd2Wy"
   },
   "outputs": [],
   "source": []
  },
  {
   "cell_type": "markdown",
   "metadata": {
    "id": "XR2up-j3d9hp"
   },
   "source": [
    "### AdaBoost Classifier (Ensemble)"
   ]
  },
  {
   "cell_type": "code",
   "execution_count": null,
   "metadata": {
    "id": "zFDKUExGd3ZW"
   },
   "outputs": [],
   "source": []
  },
  {
   "cell_type": "code",
   "execution_count": null,
   "metadata": {
    "colab": {
     "base_uri": "https://localhost:8080/"
    },
    "execution": {
     "iopub.execute_input": "2021-08-31T05:03:00.056292Z",
     "iopub.status.busy": "2021-08-31T05:03:00.055704Z",
     "iopub.status.idle": "2021-08-31T05:03:00.22951Z",
     "shell.execute_reply": "2021-08-31T05:03:00.228691Z",
     "shell.execute_reply.started": "2021-08-31T05:03:00.056246Z"
    },
    "id": "yxWfWy7-d4mZ",
    "outputId": "667e9000-c988-4cb3-d12b-ab202cc675e9"
   },
   "outputs": [],
   "source": [
    "adaboost_base = AdaBoostClassifier(random_state=0)\n",
    "adaboost_base.fit(X_train,y_train)\n",
    "accuracy = accuracy_score(y_test,adaboost_base.predict(X_test))\n",
    "accuracy"
   ]
  },
  {
   "cell_type": "code",
   "execution_count": null,
   "metadata": {
    "execution": {
     "iopub.execute_input": "2021-08-31T05:03:00.231082Z",
     "iopub.status.busy": "2021-08-31T05:03:00.230661Z",
     "iopub.status.idle": "2021-08-31T05:03:00.236642Z",
     "shell.execute_reply": "2021-08-31T05:03:00.235376Z",
     "shell.execute_reply.started": "2021-08-31T05:03:00.23104Z"
    },
    "id": "OEIJY0CPd4jk"
   },
   "outputs": [],
   "source": [
    "def objective_adaboost(trial):\n",
    "\n",
    "  params = {\n",
    "      'n_estimators':trial.suggest_int('n_estimators',2,200),\n",
    "      'learning_rate' : trial.suggest_loguniform('learning_rate',1e-6,0.5)\n",
    "  }\n",
    "\n",
    "  clf = AdaBoostClassifier(**params,random_state=0)\n",
    "\n",
    "  cv_score = cross_val_score(clf,X_train, y_train , scoring='accuracy', cv=3, n_jobs=-1,)\n",
    "\n",
    "  return cv_score.mean()"
   ]
  },
  {
   "cell_type": "code",
   "execution_count": null,
   "metadata": {
    "_kg_hide-output": false,
    "colab": {
     "base_uri": "https://localhost:8080/"
    },
    "execution": {
     "iopub.execute_input": "2021-08-31T05:03:00.239181Z",
     "iopub.status.busy": "2021-08-31T05:03:00.238867Z",
     "iopub.status.idle": "2021-08-31T05:04:45.414713Z",
     "shell.execute_reply": "2021-08-31T05:04:45.413613Z",
     "shell.execute_reply.started": "2021-08-31T05:03:00.239149Z"
    },
    "id": "JvjsO4exd4hV",
    "outputId": "f256723c-a75c-4ee3-c7a5-2773eef7ecee",
    "scrolled": true
   },
   "outputs": [],
   "source": [
    "study = optuna.create_study(direction='maximize')\n",
    "study.optimize(objective_adaboost,100)"
   ]
  },
  {
   "cell_type": "code",
   "execution_count": null,
   "metadata": {
    "colab": {
     "base_uri": "https://localhost:8080/"
    },
    "execution": {
     "iopub.execute_input": "2021-08-31T05:04:45.416796Z",
     "iopub.status.busy": "2021-08-31T05:04:45.416417Z",
     "iopub.status.idle": "2021-08-31T05:04:45.424078Z",
     "shell.execute_reply": "2021-08-31T05:04:45.422991Z",
     "shell.execute_reply.started": "2021-08-31T05:04:45.416756Z"
    },
    "id": "PSNhTJk6d4eA",
    "outputId": "4d270f54-8dfb-4528-dd49-a7e09453db7b"
   },
   "outputs": [],
   "source": [
    "best_trial = study.best_trial\n",
    "best_trial.params"
   ]
  },
  {
   "cell_type": "code",
   "execution_count": null,
   "metadata": {
    "colab": {
     "base_uri": "https://localhost:8080/"
    },
    "execution": {
     "iopub.execute_input": "2021-08-31T05:04:45.426004Z",
     "iopub.status.busy": "2021-08-31T05:04:45.425513Z",
     "iopub.status.idle": "2021-08-31T05:04:45.713082Z",
     "shell.execute_reply": "2021-08-31T05:04:45.712406Z",
     "shell.execute_reply.started": "2021-08-31T05:04:45.425969Z"
    },
    "id": "qQ054ys7d4aq",
    "outputId": "141e9ab3-74cb-4f05-d251-fb1e72b194ec"
   },
   "outputs": [],
   "source": [
    "adaboost_clf = AdaBoostClassifier(**best_trial.params,random_state =0).fit(X_train,y_train)\n",
    "accuracy = accuracy_score(y_test,adaboost_clf.predict(X_test))\n",
    "accuracy\n",
    "# 0.8379888268156425"
   ]
  },
  {
   "cell_type": "code",
   "execution_count": null,
   "metadata": {
    "colab": {
     "base_uri": "https://localhost:8080/"
    },
    "execution": {
     "iopub.execute_input": "2021-08-31T05:04:45.714572Z",
     "iopub.status.busy": "2021-08-31T05:04:45.714182Z",
     "iopub.status.idle": "2021-08-31T05:04:45.720024Z",
     "shell.execute_reply": "2021-08-31T05:04:45.719143Z",
     "shell.execute_reply.started": "2021-08-31T05:04:45.714541Z"
    },
    "id": "ppHX1QaveXGr",
    "outputId": "65c615f9-9b56-4896-e318-c8819e746720"
   },
   "outputs": [],
   "source": [
    "models['AdaBoost Classifier'] = accuracy\n",
    "models"
   ]
  },
  {
   "cell_type": "code",
   "execution_count": null,
   "metadata": {
    "id": "6sSaLBnQd4Xb"
   },
   "outputs": [],
   "source": []
  },
  {
   "cell_type": "markdown",
   "metadata": {
    "id": "HL_R1kB4gUV1"
   },
   "source": [
    "### Voting Classifier (Ensemble)"
   ]
  },
  {
   "cell_type": "code",
   "execution_count": null,
   "metadata": {
    "colab": {
     "base_uri": "https://localhost:8080/"
    },
    "execution": {
     "iopub.execute_input": "2021-08-31T05:04:45.721494Z",
     "iopub.status.busy": "2021-08-31T05:04:45.721211Z",
     "iopub.status.idle": "2021-08-31T05:04:48.531738Z",
     "shell.execute_reply": "2021-08-31T05:04:48.530675Z",
     "shell.execute_reply.started": "2021-08-31T05:04:45.721463Z"
    },
    "id": "5qHMv3uyPVii",
    "outputId": "f18ab14e-2e17-4ab7-d4c9-c489237ac50f"
   },
   "outputs": [],
   "source": [
    "votting_clf = VotingClassifier([('Linear SVC',lin_svc),('Logistic Regression',logreg),('SVC',svc),('Random Forest',rf_clf),('K-Nearest Neighbor',knn_clf)],n_jobs=-1)\n",
    "votting_clf.fit(X_train,y_train)"
   ]
  },
  {
   "cell_type": "code",
   "execution_count": null,
   "metadata": {
    "colab": {
     "base_uri": "https://localhost:8080/"
    },
    "execution": {
     "iopub.execute_input": "2021-08-31T05:04:48.533786Z",
     "iopub.status.busy": "2021-08-31T05:04:48.533345Z",
     "iopub.status.idle": "2021-08-31T05:04:48.677671Z",
     "shell.execute_reply": "2021-08-31T05:04:48.676654Z",
     "shell.execute_reply.started": "2021-08-31T05:04:48.533739Z"
    },
    "id": "jxXXOQrbHUOp",
    "outputId": "2c3a09fe-79bb-4140-f9a7-c0411ab516b5"
   },
   "outputs": [],
   "source": [
    "accuracy = accuracy_score(y_test,votting_clf.predict(X_test))\n",
    "accuracy"
   ]
  },
  {
   "cell_type": "code",
   "execution_count": null,
   "metadata": {
    "colab": {
     "base_uri": "https://localhost:8080/"
    },
    "execution": {
     "iopub.execute_input": "2021-08-31T05:04:48.679613Z",
     "iopub.status.busy": "2021-08-31T05:04:48.679218Z",
     "iopub.status.idle": "2021-08-31T05:04:51.182535Z",
     "shell.execute_reply": "2021-08-31T05:04:51.181492Z",
     "shell.execute_reply.started": "2021-08-31T05:04:48.679579Z"
    },
    "id": "RyVOebxHJJ24",
    "outputId": "0b59dc0e-6451-4fb7-8832-b190debe8cb5"
   },
   "outputs": [],
   "source": [
    "votting_clf2 = VotingClassifier([('Logistic Regression',logreg),('SVC',svc),('Random Forest',rf_clf),('K-Nearest Neighbor',knn_clf)],voting='soft',n_jobs=-1)\n",
    "votting_clf2.fit(X_train,y_train)"
   ]
  },
  {
   "cell_type": "code",
   "execution_count": null,
   "metadata": {
    "colab": {
     "base_uri": "https://localhost:8080/"
    },
    "execution": {
     "iopub.execute_input": "2021-08-31T05:04:51.184255Z",
     "iopub.status.busy": "2021-08-31T05:04:51.183948Z",
     "iopub.status.idle": "2021-08-31T05:04:51.315993Z",
     "shell.execute_reply": "2021-08-31T05:04:51.314907Z",
     "shell.execute_reply.started": "2021-08-31T05:04:51.184222Z"
    },
    "id": "z8KsO4PGJUi_",
    "outputId": "df6a68f8-aac5-4945-abbb-12073fd305c6"
   },
   "outputs": [],
   "source": [
    "accuracy = accuracy_score(y_test,votting_clf2.predict(X_test))\n",
    "accuracy"
   ]
  },
  {
   "cell_type": "code",
   "execution_count": null,
   "metadata": {
    "colab": {
     "base_uri": "https://localhost:8080/"
    },
    "execution": {
     "iopub.execute_input": "2021-08-31T05:04:51.317495Z",
     "iopub.status.busy": "2021-08-31T05:04:51.31721Z",
     "iopub.status.idle": "2021-08-31T05:04:52.458556Z",
     "shell.execute_reply": "2021-08-31T05:04:52.457402Z",
     "shell.execute_reply.started": "2021-08-31T05:04:51.317463Z"
    },
    "id": "qP3IQInkwqKE",
    "outputId": "9cad1250-b620-4abd-e4db-f3f9053e7295"
   },
   "outputs": [],
   "source": [
    "votting_clf3 = VotingClassifier([('SVC',svc),('AdaBoost',adaboost_clf),('XGBoost',xgb_clf),],voting='soft',n_jobs=-1)\n",
    "votting_clf3.fit(X_train,y_train)"
   ]
  },
  {
   "cell_type": "code",
   "execution_count": null,
   "metadata": {
    "colab": {
     "base_uri": "https://localhost:8080/"
    },
    "execution": {
     "iopub.execute_input": "2021-08-31T05:04:52.46064Z",
     "iopub.status.busy": "2021-08-31T05:04:52.460322Z",
     "iopub.status.idle": "2021-08-31T05:04:52.517052Z",
     "shell.execute_reply": "2021-08-31T05:04:52.515946Z",
     "shell.execute_reply.started": "2021-08-31T05:04:52.460609Z"
    },
    "id": "V4LWx9utwtfk",
    "outputId": "c468e234-ace2-4b3b-981e-261f245fb7a0"
   },
   "outputs": [],
   "source": [
    "accuracy = accuracy_score(y_test,votting_clf3.predict(X_test))\n",
    "accuracy"
   ]
  },
  {
   "cell_type": "code",
   "execution_count": null,
   "metadata": {
    "id": "l_pv1JoOIbQ8"
   },
   "outputs": [],
   "source": []
  },
  {
   "cell_type": "markdown",
   "metadata": {
    "id": "viHMcRwKjixD"
   },
   "source": [
    "# Kaggle Submission"
   ]
  },
  {
   "cell_type": "code",
   "execution_count": null,
   "metadata": {
    "colab": {
     "base_uri": "https://localhost:8080/"
    },
    "execution": {
     "iopub.execute_input": "2021-08-31T05:04:52.518889Z",
     "iopub.status.busy": "2021-08-31T05:04:52.518574Z",
     "iopub.status.idle": "2021-08-31T05:04:52.525459Z",
     "shell.execute_reply": "2021-08-31T05:04:52.524305Z",
     "shell.execute_reply.started": "2021-08-31T05:04:52.518856Z"
    },
    "id": "MqtBT8IVJNej",
    "outputId": "592a2542-d8a7-42bf-9b1a-e374c97aa7fd"
   },
   "outputs": [],
   "source": [
    "test_data_raw.shape"
   ]
  },
  {
   "cell_type": "code",
   "execution_count": null,
   "metadata": {
    "colab": {
     "base_uri": "https://localhost:8080/",
     "height": 294
    },
    "execution": {
     "iopub.execute_input": "2021-08-31T05:04:52.527479Z",
     "iopub.status.busy": "2021-08-31T05:04:52.527074Z",
     "iopub.status.idle": "2021-08-31T05:04:52.567943Z",
     "shell.execute_reply": "2021-08-31T05:04:52.566847Z",
     "shell.execute_reply.started": "2021-08-31T05:04:52.527422Z"
    },
    "id": "uFI3XOmHw8ku",
    "outputId": "3e107130-f29b-4c92-b3ec-13cf86447330"
   },
   "outputs": [],
   "source": [
    "test_data_raw.describe()"
   ]
  },
  {
   "cell_type": "code",
   "execution_count": null,
   "metadata": {
    "execution": {
     "iopub.execute_input": "2021-08-31T05:04:52.569736Z",
     "iopub.status.busy": "2021-08-31T05:04:52.569384Z",
     "iopub.status.idle": "2021-08-31T05:04:52.814087Z",
     "shell.execute_reply": "2021-08-31T05:04:52.813314Z",
     "shell.execute_reply.started": "2021-08-31T05:04:52.569701Z"
    },
    "id": "coiZ6L_yJNYd"
   },
   "outputs": [],
   "source": [
    "X_test_data = clean_data(test_data_raw)\n",
    "X_test_data = pipe.transform(X_test_data)"
   ]
  },
  {
   "cell_type": "code",
   "execution_count": null,
   "metadata": {
    "execution": {
     "iopub.execute_input": "2021-08-31T05:04:52.815517Z",
     "iopub.status.busy": "2021-08-31T05:04:52.815121Z",
     "iopub.status.idle": "2021-08-31T05:04:53.348538Z",
     "shell.execute_reply": "2021-08-31T05:04:53.347573Z",
     "shell.execute_reply.started": "2021-08-31T05:04:52.815486Z"
    },
    "id": "4knc51q-JHdh"
   },
   "outputs": [],
   "source": [
    "vot_clf1_result = votting_clf.predict(X_test_data).astype(int)\n",
    "vot_clf2_result = votting_clf2.predict(X_test_data).astype(int)\n",
    "vot_clf3_result = votting_clf3.predict(X_test_data).astype(int)"
   ]
  },
  {
   "cell_type": "code",
   "execution_count": null,
   "metadata": {
    "execution": {
     "iopub.execute_input": "2021-08-31T05:04:53.352468Z",
     "iopub.status.busy": "2021-08-31T05:04:53.352017Z",
     "iopub.status.idle": "2021-08-31T05:04:53.408901Z",
     "shell.execute_reply": "2021-08-31T05:04:53.407826Z",
     "shell.execute_reply.started": "2021-08-31T05:04:53.352413Z"
    },
    "id": "K37dhCXhxE8l"
   },
   "outputs": [],
   "source": [
    "svc_result = svc.predict(X_test_data).astype(int)\n",
    "sub_data = {'PassengerId': test_data_raw.PassengerId, 'Survived': svc_result}\n",
    "submission = pd.DataFrame(data=sub_data)\n",
    "submission.to_csv('submission_svc.csv', index =False)"
   ]
  },
  {
   "cell_type": "code",
   "execution_count": null,
   "metadata": {
    "execution": {
     "iopub.execute_input": "2021-08-31T05:04:53.410575Z",
     "iopub.status.busy": "2021-08-31T05:04:53.410258Z",
     "iopub.status.idle": "2021-08-31T05:04:53.418345Z",
     "shell.execute_reply": "2021-08-31T05:04:53.41747Z",
     "shell.execute_reply.started": "2021-08-31T05:04:53.410536Z"
    },
    "id": "0Ap_fm35JHan"
   },
   "outputs": [],
   "source": [
    "sub_data = {'PassengerId': test_data_raw.PassengerId, 'Survived': vot_clf1_result}\n",
    "submission = pd.DataFrame(data=sub_data)\n",
    "submission.to_csv('submission_vot_clf1.csv', index =False)"
   ]
  },
  {
   "cell_type": "code",
   "execution_count": null,
   "metadata": {
    "execution": {
     "iopub.execute_input": "2021-08-31T05:04:53.420226Z",
     "iopub.status.busy": "2021-08-31T05:04:53.419869Z",
     "iopub.status.idle": "2021-08-31T05:04:53.429345Z",
     "shell.execute_reply": "2021-08-31T05:04:53.428608Z",
     "shell.execute_reply.started": "2021-08-31T05:04:53.420195Z"
    },
    "id": "IA4pzEvJ4hc1"
   },
   "outputs": [],
   "source": [
    "sub_data = {'PassengerId': test_data_raw.PassengerId, 'Survived': vot_clf2_result}\n",
    "submission = pd.DataFrame(data=sub_data)\n",
    "submission.to_csv('submission_vot_clf2.csv', index =False)"
   ]
  },
  {
   "cell_type": "code",
   "execution_count": null,
   "metadata": {
    "execution": {
     "iopub.execute_input": "2021-08-31T05:04:53.431071Z",
     "iopub.status.busy": "2021-08-31T05:04:53.430649Z",
     "iopub.status.idle": "2021-08-31T05:04:53.441608Z",
     "shell.execute_reply": "2021-08-31T05:04:53.440432Z",
     "shell.execute_reply.started": "2021-08-31T05:04:53.431026Z"
    },
    "id": "zzNj-FSmAbez"
   },
   "outputs": [],
   "source": [
    "sub_data = {'PassengerId': test_data_raw.PassengerId, 'Survived': vot_clf3_result}\n",
    "submission = pd.DataFrame(data=sub_data)\n",
    "submission.to_csv('submission_vot_clf3.csv', index =False)"
   ]
  },
  {
   "cell_type": "code",
   "execution_count": null,
   "metadata": {
    "execution": {
     "iopub.execute_input": "2021-08-31T05:04:53.443512Z",
     "iopub.status.busy": "2021-08-31T05:04:53.443094Z",
     "iopub.status.idle": "2021-08-31T05:04:53.464341Z",
     "shell.execute_reply": "2021-08-31T05:04:53.462991Z",
     "shell.execute_reply.started": "2021-08-31T05:04:53.443468Z"
    },
    "id": "uax_e85m5xu_"
   },
   "outputs": [],
   "source": [
    "logreg_result = logreg.predict(X_test_data).astype(int)\n",
    "sub_data = {'PassengerId': test_data_raw.PassengerId, 'Survived': logreg_result}\n",
    "submission = pd.DataFrame(data=sub_data)\n",
    "submission.to_csv('submission_logreg.csv', index =False)"
   ]
  },
  {
   "cell_type": "code",
   "execution_count": null,
   "metadata": {
    "execution": {
     "iopub.execute_input": "2021-08-31T05:04:53.466616Z",
     "iopub.status.busy": "2021-08-31T05:04:53.466158Z",
     "iopub.status.idle": "2021-08-31T05:04:53.482108Z",
     "shell.execute_reply": "2021-08-31T05:04:53.480891Z",
     "shell.execute_reply.started": "2021-08-31T05:04:53.466569Z"
    },
    "id": "6i8MEyuIiFQe"
   },
   "outputs": [],
   "source": [
    "lin_SVC_result = lin_svc.predict(X_test_data).astype(int)\n",
    "sub_data = {'PassengerId': test_data_raw.PassengerId, 'Survived': lin_SVC_result}\n",
    "submission = pd.DataFrame(data=sub_data)\n",
    "submission.to_csv('submission_linSVC.csv', index =False)"
   ]
  },
  {
   "cell_type": "code",
   "execution_count": null,
   "metadata": {
    "execution": {
     "iopub.execute_input": "2021-08-31T05:04:53.49067Z",
     "iopub.status.busy": "2021-08-31T05:04:53.487752Z",
     "iopub.status.idle": "2021-08-31T05:04:53.505923Z",
     "shell.execute_reply": "2021-08-31T05:04:53.505055Z",
     "shell.execute_reply.started": "2021-08-31T05:04:53.49059Z"
    },
    "id": "kpd98KonAa1t"
   },
   "outputs": [],
   "source": [
    "xgboost_result = xgb_clf.predict(X_test_data).astype(int)\n",
    "sub_data = {'PassengerId': test_data_raw.PassengerId, 'Survived': xgboost_result}\n",
    "submission = pd.DataFrame(data=sub_data)\n",
    "submission.to_csv('submission_xgboost.csv', index =False)"
   ]
  },
  {
   "cell_type": "code",
   "execution_count": null,
   "metadata": {
    "execution": {
     "iopub.execute_input": "2021-08-31T05:04:53.514372Z",
     "iopub.status.busy": "2021-08-31T05:04:53.51161Z",
     "iopub.status.idle": "2021-08-31T05:04:53.577708Z",
     "shell.execute_reply": "2021-08-31T05:04:53.576522Z",
     "shell.execute_reply.started": "2021-08-31T05:04:53.514301Z"
    },
    "id": "SqQh4LnQiFQf"
   },
   "outputs": [],
   "source": [
    "adaboost_result = adaboost_clf.predict(X_test_data).astype(int)\n",
    "sub_data = {'PassengerId': test_data_raw.PassengerId, 'Survived': adaboost_result}\n",
    "submission = pd.DataFrame(data=sub_data)\n",
    "submission.to_csv('submission_adaboost_result.csv', index =False)"
   ]
  },
  {
   "cell_type": "code",
   "execution_count": null,
   "metadata": {
    "execution": {
     "iopub.execute_input": "2021-08-31T05:09:40.94145Z",
     "iopub.status.busy": "2021-08-31T05:09:40.941039Z",
     "iopub.status.idle": "2021-08-31T05:09:42.076417Z",
     "shell.execute_reply": "2021-08-31T05:09:42.075407Z",
     "shell.execute_reply.started": "2021-08-31T05:09:40.941401Z"
    },
    "id": "RgqmLMJQ5Aka"
   },
   "outputs": [],
   "source": [
    "# For Colab\n",
    "# Submissuion\n",
    "#!kaggle competitions submit -c titanic -f submission_vot_clf2.csv -m \"VotingClassifier2\""
   ]
  },
  {
   "cell_type": "code",
   "execution_count": null,
   "metadata": {
    "id": "sSYXR-ggytAV"
   },
   "outputs": [],
   "source": []
  }
 ],
 "metadata": {
  "colab": {
   "collapsed_sections": [],
   "name": "Titanic.ipynb",
   "provenance": []
  },
  "kernelspec": {
   "display_name": "Python 3",
   "language": "python",
   "name": "python3"
  },
  "language_info": {
   "codemirror_mode": {
    "name": "ipython",
    "version": 3
   },
   "file_extension": ".py",
   "mimetype": "text/x-python",
   "name": "python",
   "nbconvert_exporter": "python",
   "pygments_lexer": "ipython3",
   "version": "3.6.4"
  }
 },
 "nbformat": 4,
 "nbformat_minor": 1
}
